{
 "cells": [
  {
   "cell_type": "code",
   "execution_count": 2,
   "metadata": {},
   "outputs": [],
   "source": [
    "\n",
    "import streamlit as st\n",
    "import pandas as pd\n",
    "import plotly_express as px\n",
    "\n",
    "import numpy as np\n",
    "\n",
    "import seaborn as sns\n",
    "\n",
    "from matplotlib import pyplot as plt\n",
    "from math import factorial\n",
    "from scipy import stats\n",
    "\n"
   ]
  },
  {
   "cell_type": "code",
   "execution_count": 6,
   "metadata": {},
   "outputs": [],
   "source": [
    "\n",
    "car_data = pd.read_csv('/Users/Juan/Documents/GitHub/DS_Project2/vehicles_us.csv', sep=',') # leer los datos   \n",
    "#print (car_data)\n",
    "dfhl = pd.read_excel('dfhl.xlsx')"
   ]
  },
  {
   "cell_type": "code",
   "execution_count": 3,
   "metadata": {},
   "outputs": [
    {
     "name": "stderr",
     "output_type": "stream",
     "text": [
      "2024-04-11 21:12:17.461 \n",
      "  \u001b[33m\u001b[1mWarning:\u001b[0m to view this Streamlit app on a browser, run it with the following\n",
      "  command:\n",
      "\n",
      "    streamlit run /Users/Juan/Library/Python/3.12/lib/python/site-packages/ipykernel_launcher.py [ARGUMENTS]\n"
     ]
    }
   ],
   "source": [
    "\n",
    "st.header('Curso Data Analytics - Proyecto Sprint 05')\n",
    "\n",
    "hist_button = st.button('Construir histograma')  # crear un botón\n",
    "\n",
    "if hist_button:  # al hacer clic en el botón\n",
    "    # escribir un mensaje\n",
    "    st.write(\n",
    "        'Creación de un histograma para el conjunto de datos de anuncios de venta de coches')\n",
    "    fig = px.histogram(car_data, x=\"odometer\")  # crear un histograma\n",
    "    # mostrar un gráfico Plotly interactivo\n",
    "    st.plotly_chart(fig, use_container_width=True)\n",
    "\n",
    "scatter_button = st.button('Construir grafico de dispersion')\n",
    "\n",
    "if scatter_button:\n",
    "    # escribir un mensaje\n",
    "    st.write('Creación de un grafico de dispersion para el conjunto de datos de anuncios de venta de coches')\n",
    "    # mostrar un gráfico Plotly interactivo\n",
    "    fig = px.scatter(car_data, x=\"odometer\", y=\"price\")\n",
    "    # mostrar un gráfico Plotly interactivo\n",
    "    st.plotly_chart(fig, use_container_width=True)\n"
   ]
  }
 ],
 "metadata": {
  "kernelspec": {
   "display_name": "Python 3",
   "language": "python",
   "name": "python3"
  },
  "language_info": {
   "codemirror_mode": {
    "name": "ipython",
    "version": 3
   },
   "file_extension": ".py",
   "mimetype": "text/x-python",
   "name": "python",
   "nbconvert_exporter": "python",
   "pygments_lexer": "ipython3",
   "version": "3.12.0"
  },
  "orig_nbformat": 4
 },
 "nbformat": 4,
 "nbformat_minor": 2
}
