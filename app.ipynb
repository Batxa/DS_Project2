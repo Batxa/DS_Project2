{
 "cells": [
  {
   "cell_type": "code",
   "execution_count": null,
   "metadata": {},
   "outputs": [],
   "source": [
    "\n",
    "import streamlit as st\n",
    "import pandas as pd\n",
    "import plotly_express as px\n",
    "\n",
    "import numpy as np\n",
    "\n",
    "import seaborn as sns\n",
    "\n",
    "from matplotlib import pyplot as plt\n",
    "from math import factorial\n",
    "from scipy import stats\n",
    "\n",
    "\n",
    "# df = pd.read_csv(\"Users/Juan/Documents/DataAnalytics/DA_S05_SoftwareDevelopment/DA_05_Project/vehicles_us.csv\")\n",
    "\n",
    "#car_data = pd.read_csv(\n",
    "#   \"vehicles_us.csv\")\n",
    "   # \"/Users/Juan/Documents/DataAnalytics/DA_S05_SoftwareDevelopment/DA_05_Project/vehicles_us.csv\")\n",
    "car_data = pd.read_csv('/Users/Juan/Documents/GitHub/DS_Project2/vehicles_us.csv', sep=',') # leer los datos   \n",
    "print (car_data)\n",
    "\n",
    "st.header('Curso Data Analytics - Proyecto Sprint 05')\n",
    "\n",
    "hist_button = st.button('Construir histograma')  # crear un botón\n",
    "\n",
    "if hist_button:  # al hacer clic en el botón\n",
    "    # escribir un mensaje\n",
    "    st.write(\n",
    "        'Creación de un histograma para el conjunto de datos de anuncios de venta de coches')\n",
    "    fig = px.histogram(car_data, x=\"odometer\")  # crear un histograma\n",
    "    # mostrar un gráfico Plotly interactivo\n",
    "    st.plotly_chart(fig, use_container_width=True)\n",
    "\n",
    "scatter_button = st.button('Construir grafico de dispersion')\n",
    "\n",
    "if scatter_button:\n",
    "    # escribir un mensaje\n",
    "    st.write('Creación de un grafico de dispersion para el conjunto de datos de anuncios de venta de coches')\n",
    "    # mostrar un gráfico Plotly interactivo\n",
    "    fig = px.scatter(car_data, x=\"odometer\", y=\"price\")\n",
    "    # mostrar un gráfico Plotly interactivo\n",
    "    st.plotly_chart(fig, use_container_width=True)\n"
   ]
  }
 ],
 "metadata": {
  "language_info": {
   "name": "python"
  },
  "orig_nbformat": 4
 },
 "nbformat": 4,
 "nbformat_minor": 2
}
