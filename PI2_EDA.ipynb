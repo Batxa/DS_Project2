{
 "cells": [
  {
   "attachments": {},
   "cell_type": "markdown",
   "metadata": {},
   "source": [
    "# Introducción, objetivos y contenido\n",
    "===================================================================================================================================="
   ]
  },
  {
   "attachments": {},
   "cell_type": "markdown",
   "metadata": {},
   "source": [
    "Este trabajo corresponde a la fase de EDA (Exploratory data analysis) del segundo proyecto individual para el curso de DAta Science de Soy Henry. \n",
    "\n",
    "El objetivo de esta fase es obtener una comprensión del contenido de los datasets limpios, así como investigar las relaciones entre variables.\n",
    "\n",
    "Contenidos:\n",
    "* Importación de librerías y carga de datos\n",
    "* Preprocesamiento de datos\n",
    "    * Verificación de tipo de datos\n",
    "    * Verificación de duplicados\n",
    "    * Verificación de nulos\n",
    "* Análisis de datos \n",
    "    * Estadística descriptiva\n",
    "    * Serie de tiempo, tendencias y estacionalidad\n",
    "    * Relación entre tipos de eventos    \n",
    "    * Localizaciones\n",
    "    * Tipos de víctimas\n",
    "* Conclusiones"
   ]
  },
  {
   "attachments": {},
   "cell_type": "markdown",
   "metadata": {},
   "source": [
    "# Importación de librerías y carga de datos\n",
    "===================================================================================================================================="
   ]
  },
  {
   "cell_type": "code",
   "execution_count": 1,
   "metadata": {},
   "outputs": [],
   "source": [
    "import pandas as pd\n",
    "import numpy as np\n",
    "import seaborn as sns\n",
    "import matplotlib as mpl \n",
    "import matplotlib.pyplot as plt\n",
    "from matplotlib.ticker import MultipleLocator\n",
    "from matplotlib.colors import LinearSegmentedColormap\n",
    "import plotly.express as px\n",
    "import plotly.graph_objects as go\n",
    "from math import factorial\n",
    "from scipy import stats as st\n",
    "\n",
    "import pyproj"
   ]
  },
  {
   "cell_type": "code",
   "execution_count": 2,
   "metadata": {},
   "outputs": [],
   "source": [
    "dfh = pd.read_excel('homicidios.xlsx', sheet_name='HECHOS') # homicidios\n",
    "dfl = pd.read_excel('lesiones.xlsx', sheet_name='HECHOS') # lesiones"
   ]
  },
  {
   "attachments": {},
   "cell_type": "markdown",
   "metadata": {},
   "source": [
    "# Preprocesamiento de datasets\n",
    "===================================================================================================================================="
   ]
  },
  {
   "attachments": {},
   "cell_type": "markdown",
   "metadata": {},
   "source": [
    "En los siguientes análisis, realizaremos:\n",
    "* Verificación de tipos de datos: en caso de que un campo tenga formato que no se condiga con los datos que representa, se modificará el tipo de datos\n",
    "* Verificación de duplicados: se eliminarán registros duplicados\n",
    "* Verificación de nulos: hay tres opciones:\n",
    "    * Eliminación de registros con valores nulos: se dá en caso de que el registro represente un posible daño para cálculos ulteriores\n",
    "    * Conservar los registros con valores nulos: en caso de que un campo tenga un valor nulo y ese campo no sea necesario posteriormente, conservar el registro es preferible para evitar pérdida en la calidad de los cálculos posteriores\n",
    "    * Conservar los registros con valores nulos, reemplazando el valor nulo o faltante: se dá en caso de que el valor faltante sea necesario y que además sea posible reemplazarlo, ya sea buscando patrones de comportamiento o a través de búsquedas en datasets externos"
   ]
  },
  {
   "attachments": {},
   "cell_type": "markdown",
   "metadata": {},
   "source": [
    "## Dataset HOMICIDIOS"
   ]
  },
  {
   "cell_type": "code",
   "execution_count": 3,
   "metadata": {},
   "outputs": [
    {
     "data": {
      "text/html": [
       "<div>\n",
       "<style scoped>\n",
       "    .dataframe tbody tr th:only-of-type {\n",
       "        vertical-align: middle;\n",
       "    }\n",
       "\n",
       "    .dataframe tbody tr th {\n",
       "        vertical-align: top;\n",
       "    }\n",
       "\n",
       "    .dataframe thead th {\n",
       "        text-align: right;\n",
       "    }\n",
       "</style>\n",
       "<table border=\"1\" class=\"dataframe\">\n",
       "  <thead>\n",
       "    <tr style=\"text-align: right;\">\n",
       "      <th></th>\n",
       "      <th>ID</th>\n",
       "      <th>N_VICTIMAS</th>\n",
       "      <th>FECHA</th>\n",
       "      <th>AAAA</th>\n",
       "      <th>MM</th>\n",
       "      <th>DD</th>\n",
       "      <th>HORA</th>\n",
       "      <th>HH</th>\n",
       "      <th>LUGAR_DEL_HECHO</th>\n",
       "      <th>TIPO_DE_CALLE</th>\n",
       "      <th>...</th>\n",
       "      <th>Altura</th>\n",
       "      <th>Cruce</th>\n",
       "      <th>Dirección Normalizada</th>\n",
       "      <th>COMUNA</th>\n",
       "      <th>XY (CABA)</th>\n",
       "      <th>pos x</th>\n",
       "      <th>pos y</th>\n",
       "      <th>PARTICIPANTES</th>\n",
       "      <th>VICTIMA</th>\n",
       "      <th>ACUSADO</th>\n",
       "    </tr>\n",
       "  </thead>\n",
       "  <tbody>\n",
       "    <tr>\n",
       "      <th>332</th>\n",
       "      <td>2018-0058</td>\n",
       "      <td>1</td>\n",
       "      <td>2018-06-03</td>\n",
       "      <td>2018</td>\n",
       "      <td>6</td>\n",
       "      <td>3</td>\n",
       "      <td>06:30:00</td>\n",
       "      <td>6</td>\n",
       "      <td>Cordoba Av. y Thames</td>\n",
       "      <td>AVENIDA</td>\n",
       "      <td>...</td>\n",
       "      <td>NaN</td>\n",
       "      <td>THAMES</td>\n",
       "      <td>CORDOBA AV. y THAMES</td>\n",
       "      <td>15</td>\n",
       "      <td>Point (102567.54814228 104264.87527568)</td>\n",
       "      <td>-58.43531242</td>\n",
       "      <td>-34.59082159</td>\n",
       "      <td>MOTO-AUTO</td>\n",
       "      <td>MOTO</td>\n",
       "      <td>AUTO</td>\n",
       "    </tr>\n",
       "    <tr>\n",
       "      <th>355</th>\n",
       "      <td>2018-0081</td>\n",
       "      <td>1</td>\n",
       "      <td>2018-07-29</td>\n",
       "      <td>2018</td>\n",
       "      <td>7</td>\n",
       "      <td>29</td>\n",
       "      <td>06:30:00</td>\n",
       "      <td>6</td>\n",
       "      <td>Castañares Av. y Rivera Indarte Av.</td>\n",
       "      <td>AVENIDA</td>\n",
       "      <td>...</td>\n",
       "      <td>NaN</td>\n",
       "      <td>RIVERA INDARTE AV.</td>\n",
       "      <td>CASTAÃ‘ARES AV. y RIVERA INDARTE AV.</td>\n",
       "      <td>7</td>\n",
       "      <td>Point (101453.89687005 98180.39027169)</td>\n",
       "      <td>-58.44744156</td>\n",
       "      <td>-34.64567171</td>\n",
       "      <td>MULTIPLE</td>\n",
       "      <td>PEATON</td>\n",
       "      <td>MULTIPLE</td>\n",
       "    </tr>\n",
       "  </tbody>\n",
       "</table>\n",
       "<p>2 rows × 21 columns</p>\n",
       "</div>"
      ],
      "text/plain": [
       "            ID  N_VICTIMAS      FECHA  AAAA  MM  DD      HORA HH  \\\n",
       "332  2018-0058           1 2018-06-03  2018   6   3  06:30:00  6   \n",
       "355  2018-0081           1 2018-07-29  2018   7  29  06:30:00  6   \n",
       "\n",
       "                         LUGAR_DEL_HECHO TIPO_DE_CALLE  ... Altura  \\\n",
       "332                 Cordoba Av. y Thames       AVENIDA  ...    NaN   \n",
       "355  Castañares Av. y Rivera Indarte Av.       AVENIDA  ...    NaN   \n",
       "\n",
       "                  Cruce                 Dirección Normalizada COMUNA  \\\n",
       "332              THAMES                  CORDOBA AV. y THAMES     15   \n",
       "355  RIVERA INDARTE AV.  CASTAÃ‘ARES AV. y RIVERA INDARTE AV.      7   \n",
       "\n",
       "                                   XY (CABA)         pos x         pos y  \\\n",
       "332  Point (102567.54814228 104264.87527568)  -58.43531242  -34.59082159   \n",
       "355   Point (101453.89687005 98180.39027169)  -58.44744156  -34.64567171   \n",
       "\n",
       "    PARTICIPANTES VICTIMA   ACUSADO  \n",
       "332     MOTO-AUTO    MOTO      AUTO  \n",
       "355      MULTIPLE  PEATON  MULTIPLE  \n",
       "\n",
       "[2 rows x 21 columns]"
      ]
     },
     "execution_count": 3,
     "metadata": {},
     "output_type": "execute_result"
    }
   ],
   "source": [
    "dfh.sample(2)"
   ]
  },
  {
   "cell_type": "code",
   "execution_count": 4,
   "metadata": {},
   "outputs": [],
   "source": [
    "# Corrección de nombres de campos\n",
    "dfh.columns = dfh.columns.str.lower()\n",
    "dfh.columns = dfh.columns.str.replace(' ', '_')\n",
    "dfh.columns = dfh.columns.str.normalize('NFKD').str.encode('ascii', errors='ignore').str.decode('utf-8')\n",
    "\n",
    "# Transformación de fecha y creación de campos auxiliares de fecha\n",
    "dfh['fecha'] = pd.to_datetime(dfh['fecha'])\n",
    "dfh['dia_semana'] = dfh['fecha'].dt.dayofweek\n",
    "dfh['hh'] = pd.to_numeric(dfh['hh'], errors='coerce')\n",
    "dfh['period'] = dfh['fecha'].dt.strftime('%y%m')\n",
    "\n",
    "# Cambio de nombre\n",
    "dfh['calle_tipo'] = dfh['tipo_de_calle']\n",
    "\n",
    "# Campo auxiliar\n",
    "dfh['evento_tipo'] = \"muerte\"\n",
    "\n",
    "# Transformación de coordenadas\n",
    "dfh['pos_x'] = pd.to_numeric(dfh['pos_x'], errors='coerce')\n",
    "dfh['pos_y'] = pd.to_numeric(dfh['pos_y'], errors='coerce')\n",
    "\n",
    "# Agregar latitud y longitud\n",
    "import pandas as pd\n",
    "from pyproj import Transformer\n",
    "transformador = Transformer.from_crs(\"epsg:32610\", \"epsg:4326\")  # UTM Zone 10N a WGS84 # Definir el transformador de coordenadas\n",
    "\n",
    "def xy_a_lat_long(x, y):                                        # Función para convertir coordenadas XY a latitud y longitud\n",
    "    longitud, latitud = transformador.transform(x, y)\n",
    "    return longitud, latitud\n",
    "# Aplicar la función a cada fila del DataFrame y crear nuevas columnas de longitud y latitud\n",
    "dfh[['longitud', 'latitud']] = dfh.apply(lambda row: pd.Series(xy_a_lat_long(row['pos_x'], row['pos_y'])), axis=1)"
   ]
  },
  {
   "cell_type": "code",
   "execution_count": 5,
   "metadata": {},
   "outputs": [
    {
     "data": {
      "text/html": [
       "<div>\n",
       "<style scoped>\n",
       "    .dataframe tbody tr th:only-of-type {\n",
       "        vertical-align: middle;\n",
       "    }\n",
       "\n",
       "    .dataframe tbody tr th {\n",
       "        vertical-align: top;\n",
       "    }\n",
       "\n",
       "    .dataframe thead th {\n",
       "        text-align: right;\n",
       "    }\n",
       "</style>\n",
       "<table border=\"1\" class=\"dataframe\">\n",
       "  <thead>\n",
       "    <tr style=\"text-align: right;\">\n",
       "      <th></th>\n",
       "      <th>id</th>\n",
       "      <th>n_victimas</th>\n",
       "      <th>fecha</th>\n",
       "      <th>aaaa</th>\n",
       "      <th>mm</th>\n",
       "      <th>dd</th>\n",
       "      <th>hora</th>\n",
       "      <th>hh</th>\n",
       "      <th>lugar_del_hecho</th>\n",
       "      <th>tipo_de_calle</th>\n",
       "      <th>...</th>\n",
       "      <th>pos_y</th>\n",
       "      <th>participantes</th>\n",
       "      <th>victima</th>\n",
       "      <th>acusado</th>\n",
       "      <th>dia_semana</th>\n",
       "      <th>period</th>\n",
       "      <th>calle_tipo</th>\n",
       "      <th>evento_tipo</th>\n",
       "      <th>longitud</th>\n",
       "      <th>latitud</th>\n",
       "    </tr>\n",
       "  </thead>\n",
       "  <tbody>\n",
       "    <tr>\n",
       "      <th>0</th>\n",
       "      <td>2016-0001</td>\n",
       "      <td>1</td>\n",
       "      <td>2016-01-01</td>\n",
       "      <td>2016</td>\n",
       "      <td>1</td>\n",
       "      <td>1</td>\n",
       "      <td>04:00:00</td>\n",
       "      <td>4.0</td>\n",
       "      <td>AV PIEDRA BUENA Y AV FERNANDEZ DE LA CRUZ</td>\n",
       "      <td>AVENIDA</td>\n",
       "      <td>...</td>\n",
       "      <td>-34.687570</td>\n",
       "      <td>MOTO-AUTO</td>\n",
       "      <td>MOTO</td>\n",
       "      <td>AUTO</td>\n",
       "      <td>4</td>\n",
       "      <td>1601</td>\n",
       "      <td>AVENIDA</td>\n",
       "      <td>muerte</td>\n",
       "      <td>-0.000313</td>\n",
       "      <td>-127.489268</td>\n",
       "    </tr>\n",
       "    <tr>\n",
       "      <th>1</th>\n",
       "      <td>2016-0002</td>\n",
       "      <td>1</td>\n",
       "      <td>2016-01-02</td>\n",
       "      <td>2016</td>\n",
       "      <td>1</td>\n",
       "      <td>2</td>\n",
       "      <td>01:15:00</td>\n",
       "      <td>1.0</td>\n",
       "      <td>AV GRAL PAZ  Y AV DE LOS CORRALES</td>\n",
       "      <td>GRAL PAZ</td>\n",
       "      <td>...</td>\n",
       "      <td>-34.669777</td>\n",
       "      <td>AUTO-PASAJEROS</td>\n",
       "      <td>AUTO</td>\n",
       "      <td>PASAJEROS</td>\n",
       "      <td>5</td>\n",
       "      <td>1601</td>\n",
       "      <td>GRAL PAZ</td>\n",
       "      <td>muerte</td>\n",
       "      <td>-0.000313</td>\n",
       "      <td>-127.489268</td>\n",
       "    </tr>\n",
       "  </tbody>\n",
       "</table>\n",
       "<p>2 rows × 27 columns</p>\n",
       "</div>"
      ],
      "text/plain": [
       "          id  n_victimas      fecha  aaaa  mm  dd      hora   hh  \\\n",
       "0  2016-0001           1 2016-01-01  2016   1   1  04:00:00  4.0   \n",
       "1  2016-0002           1 2016-01-02  2016   1   2  01:15:00  1.0   \n",
       "\n",
       "                             lugar_del_hecho tipo_de_calle  ...      pos_y  \\\n",
       "0  AV PIEDRA BUENA Y AV FERNANDEZ DE LA CRUZ       AVENIDA  ... -34.687570   \n",
       "1          AV GRAL PAZ  Y AV DE LOS CORRALES      GRAL PAZ  ... -34.669777   \n",
       "\n",
       "    participantes victima    acusado  dia_semana period  calle_tipo  \\\n",
       "0       MOTO-AUTO    MOTO       AUTO           4   1601     AVENIDA   \n",
       "1  AUTO-PASAJEROS    AUTO  PASAJEROS           5   1601    GRAL PAZ   \n",
       "\n",
       "   evento_tipo  longitud     latitud  \n",
       "0       muerte -0.000313 -127.489268  \n",
       "1       muerte -0.000313 -127.489268  \n",
       "\n",
       "[2 rows x 27 columns]"
      ]
     },
     "execution_count": 5,
     "metadata": {},
     "output_type": "execute_result"
    }
   ],
   "source": [
    "dfh.head(2)"
   ]
  },
  {
   "cell_type": "code",
   "execution_count": 6,
   "metadata": {},
   "outputs": [
    {
     "data": {
      "text/plain": [
       "0"
      ]
     },
     "execution_count": 6,
     "metadata": {},
     "output_type": "execute_result"
    }
   ],
   "source": [
    "# Verificación de duplicados\n",
    "dfh.duplicated().sum()\n",
    "# No se observan duplicados"
   ]
  },
  {
   "cell_type": "code",
   "execution_count": 7,
   "metadata": {},
   "outputs": [
    {
     "data": {
      "text/plain": [
       "id                         0\n",
       "n_victimas                 0\n",
       "fecha                      0\n",
       "aaaa                       0\n",
       "mm                         0\n",
       "dd                         0\n",
       "hora                       0\n",
       "hh                         1\n",
       "lugar_del_hecho            0\n",
       "tipo_de_calle              0\n",
       "calle                      1\n",
       "altura                   567\n",
       "cruce                    171\n",
       "direccion_normalizada      8\n",
       "comuna                     0\n",
       "xy_(caba)                  0\n",
       "pos_x                     12\n",
       "pos_y                     12\n",
       "participantes              0\n",
       "victima                    0\n",
       "acusado                    0\n",
       "dia_semana                 0\n",
       "period                     0\n",
       "calle_tipo                 0\n",
       "evento_tipo                0\n",
       "longitud                  12\n",
       "latitud                   12\n",
       "dtype: int64"
      ]
     },
     "execution_count": 7,
     "metadata": {},
     "output_type": "execute_result"
    }
   ],
   "source": [
    "# Verificación de nulos\n",
    "dfh.isnull().sum()"
   ]
  },
  {
   "cell_type": "code",
   "execution_count": 8,
   "metadata": {},
   "outputs": [
    {
     "data": {
      "text/html": [
       "<div>\n",
       "<style scoped>\n",
       "    .dataframe tbody tr th:only-of-type {\n",
       "        vertical-align: middle;\n",
       "    }\n",
       "\n",
       "    .dataframe tbody tr th {\n",
       "        vertical-align: top;\n",
       "    }\n",
       "\n",
       "    .dataframe thead th {\n",
       "        text-align: right;\n",
       "    }\n",
       "</style>\n",
       "<table border=\"1\" class=\"dataframe\">\n",
       "  <thead>\n",
       "    <tr style=\"text-align: right;\">\n",
       "      <th></th>\n",
       "      <th>id</th>\n",
       "      <th>n_victimas</th>\n",
       "      <th>fecha</th>\n",
       "      <th>aaaa</th>\n",
       "      <th>mm</th>\n",
       "      <th>dd</th>\n",
       "      <th>hora</th>\n",
       "      <th>hh</th>\n",
       "      <th>lugar_del_hecho</th>\n",
       "      <th>tipo_de_calle</th>\n",
       "      <th>...</th>\n",
       "      <th>pos_y</th>\n",
       "      <th>participantes</th>\n",
       "      <th>victima</th>\n",
       "      <th>acusado</th>\n",
       "      <th>dia_semana</th>\n",
       "      <th>period</th>\n",
       "      <th>calle_tipo</th>\n",
       "      <th>evento_tipo</th>\n",
       "      <th>longitud</th>\n",
       "      <th>latitud</th>\n",
       "    </tr>\n",
       "  </thead>\n",
       "  <tbody>\n",
       "    <tr>\n",
       "      <th>518</th>\n",
       "      <td>2019-0103</td>\n",
       "      <td>1</td>\n",
       "      <td>2019-12-18</td>\n",
       "      <td>2019</td>\n",
       "      <td>12</td>\n",
       "      <td>18</td>\n",
       "      <td>SD</td>\n",
       "      <td>NaN</td>\n",
       "      <td>PAZ, GRAL. AV. Y GRIVEO</td>\n",
       "      <td>GRAL PAZ</td>\n",
       "      <td>...</td>\n",
       "      <td>-34.594716</td>\n",
       "      <td>MOTO-MOTO</td>\n",
       "      <td>MOTO</td>\n",
       "      <td>MOTO</td>\n",
       "      <td>2</td>\n",
       "      <td>1912</td>\n",
       "      <td>GRAL PAZ</td>\n",
       "      <td>muerte</td>\n",
       "      <td>-0.000312</td>\n",
       "      <td>-127.489268</td>\n",
       "    </tr>\n",
       "  </tbody>\n",
       "</table>\n",
       "<p>1 rows × 27 columns</p>\n",
       "</div>"
      ],
      "text/plain": [
       "            id  n_victimas      fecha  aaaa  mm  dd hora  hh  \\\n",
       "518  2019-0103           1 2019-12-18  2019  12  18   SD NaN   \n",
       "\n",
       "             lugar_del_hecho tipo_de_calle  ...      pos_y  participantes  \\\n",
       "518  PAZ, GRAL. AV. Y GRIVEO      GRAL PAZ  ... -34.594716      MOTO-MOTO   \n",
       "\n",
       "    victima acusado  dia_semana period  calle_tipo  evento_tipo  longitud  \\\n",
       "518    MOTO    MOTO           2   1912    GRAL PAZ       muerte -0.000312   \n",
       "\n",
       "        latitud  \n",
       "518 -127.489268  \n",
       "\n",
       "[1 rows x 27 columns]"
      ]
     },
     "execution_count": 8,
     "metadata": {},
     "output_type": "execute_result"
    }
   ],
   "source": [
    "# Revisar los valores nulos del campo \"hh\"\n",
    "dfh_filt1 = dfh[dfh['hh'].isnull()]\n",
    "dfh_filt1\n",
    "# Conservaremos este registro ya que sólo le falta un valor"
   ]
  },
  {
   "cell_type": "code",
   "execution_count": 9,
   "metadata": {},
   "outputs": [
    {
     "data": {
      "text/html": [
       "<div>\n",
       "<style scoped>\n",
       "    .dataframe tbody tr th:only-of-type {\n",
       "        vertical-align: middle;\n",
       "    }\n",
       "\n",
       "    .dataframe tbody tr th {\n",
       "        vertical-align: top;\n",
       "    }\n",
       "\n",
       "    .dataframe thead th {\n",
       "        text-align: right;\n",
       "    }\n",
       "</style>\n",
       "<table border=\"1\" class=\"dataframe\">\n",
       "  <thead>\n",
       "    <tr style=\"text-align: right;\">\n",
       "      <th></th>\n",
       "      <th>id</th>\n",
       "      <th>n_victimas</th>\n",
       "      <th>fecha</th>\n",
       "      <th>aaaa</th>\n",
       "      <th>mm</th>\n",
       "      <th>dd</th>\n",
       "      <th>hora</th>\n",
       "      <th>hh</th>\n",
       "      <th>lugar_del_hecho</th>\n",
       "      <th>tipo_de_calle</th>\n",
       "      <th>...</th>\n",
       "      <th>pos_y</th>\n",
       "      <th>participantes</th>\n",
       "      <th>victima</th>\n",
       "      <th>acusado</th>\n",
       "      <th>dia_semana</th>\n",
       "      <th>period</th>\n",
       "      <th>calle_tipo</th>\n",
       "      <th>evento_tipo</th>\n",
       "      <th>longitud</th>\n",
       "      <th>latitud</th>\n",
       "    </tr>\n",
       "  </thead>\n",
       "  <tbody>\n",
       "    <tr>\n",
       "      <th>38</th>\n",
       "      <td>2016-0052</td>\n",
       "      <td>1</td>\n",
       "      <td>2016-04-20</td>\n",
       "      <td>2016</td>\n",
       "      <td>4</td>\n",
       "      <td>20</td>\n",
       "      <td>20:00:00</td>\n",
       "      <td>20.0</td>\n",
       "      <td>AUTOPISTA LUGONES PK 10000</td>\n",
       "      <td>AUTOPISTA</td>\n",
       "      <td>...</td>\n",
       "      <td>NaN</td>\n",
       "      <td>MOTO-SD</td>\n",
       "      <td>MOTO</td>\n",
       "      <td>SD</td>\n",
       "      <td>2</td>\n",
       "      <td>1604</td>\n",
       "      <td>AUTOPISTA</td>\n",
       "      <td>muerte</td>\n",
       "      <td>NaN</td>\n",
       "      <td>NaN</td>\n",
       "    </tr>\n",
       "    <tr>\n",
       "      <th>106</th>\n",
       "      <td>2016-0136</td>\n",
       "      <td>1</td>\n",
       "      <td>2016-10-25</td>\n",
       "      <td>2016</td>\n",
       "      <td>10</td>\n",
       "      <td>25</td>\n",
       "      <td>00:00:00</td>\n",
       "      <td>0.0</td>\n",
       "      <td>AU BUENOS AIRES - LA PLATA KM. 4</td>\n",
       "      <td>AUTOPISTA</td>\n",
       "      <td>...</td>\n",
       "      <td>NaN</td>\n",
       "      <td>MOTO-CARGAS</td>\n",
       "      <td>MOTO</td>\n",
       "      <td>CARGAS</td>\n",
       "      <td>1</td>\n",
       "      <td>1610</td>\n",
       "      <td>AUTOPISTA</td>\n",
       "      <td>muerte</td>\n",
       "      <td>NaN</td>\n",
       "      <td>NaN</td>\n",
       "    </tr>\n",
       "    <tr>\n",
       "      <th>119</th>\n",
       "      <td>2016-0151</td>\n",
       "      <td>1</td>\n",
       "      <td>2016-11-18</td>\n",
       "      <td>2016</td>\n",
       "      <td>11</td>\n",
       "      <td>18</td>\n",
       "      <td>20:35:00</td>\n",
       "      <td>20.0</td>\n",
       "      <td>SD</td>\n",
       "      <td>CALLE</td>\n",
       "      <td>...</td>\n",
       "      <td>NaN</td>\n",
       "      <td>PEATON-SD</td>\n",
       "      <td>PEATON</td>\n",
       "      <td>SD</td>\n",
       "      <td>4</td>\n",
       "      <td>1611</td>\n",
       "      <td>CALLE</td>\n",
       "      <td>muerte</td>\n",
       "      <td>NaN</td>\n",
       "      <td>NaN</td>\n",
       "    </tr>\n",
       "    <tr>\n",
       "      <th>180</th>\n",
       "      <td>2017-0050</td>\n",
       "      <td>2</td>\n",
       "      <td>2017-04-28</td>\n",
       "      <td>2017</td>\n",
       "      <td>4</td>\n",
       "      <td>28</td>\n",
       "      <td>11:08:08</td>\n",
       "      <td>11.0</td>\n",
       "      <td>AU PERITO MORENO Y RAMAL ENLACE AU1/AU6</td>\n",
       "      <td>AUTOPISTA</td>\n",
       "      <td>...</td>\n",
       "      <td>NaN</td>\n",
       "      <td>MOTO-CARGAS</td>\n",
       "      <td>MOTO</td>\n",
       "      <td>CARGAS</td>\n",
       "      <td>4</td>\n",
       "      <td>1704</td>\n",
       "      <td>AUTOPISTA</td>\n",
       "      <td>muerte</td>\n",
       "      <td>NaN</td>\n",
       "      <td>NaN</td>\n",
       "    </tr>\n",
       "    <tr>\n",
       "      <th>181</th>\n",
       "      <td>2017-0051</td>\n",
       "      <td>1</td>\n",
       "      <td>2017-05-01</td>\n",
       "      <td>2017</td>\n",
       "      <td>5</td>\n",
       "      <td>1</td>\n",
       "      <td>03:47:47</td>\n",
       "      <td>3.0</td>\n",
       "      <td>AU DELLEPIANE 2400</td>\n",
       "      <td>AUTOPISTA</td>\n",
       "      <td>...</td>\n",
       "      <td>NaN</td>\n",
       "      <td>AUTO-AUTO</td>\n",
       "      <td>AUTO</td>\n",
       "      <td>AUTO</td>\n",
       "      <td>0</td>\n",
       "      <td>1705</td>\n",
       "      <td>AUTOPISTA</td>\n",
       "      <td>muerte</td>\n",
       "      <td>NaN</td>\n",
       "      <td>NaN</td>\n",
       "    </tr>\n",
       "    <tr>\n",
       "      <th>313</th>\n",
       "      <td>2018-0039</td>\n",
       "      <td>1</td>\n",
       "      <td>2018-04-21</td>\n",
       "      <td>2018</td>\n",
       "      <td>4</td>\n",
       "      <td>21</td>\n",
       "      <td>22:15:00</td>\n",
       "      <td>22.0</td>\n",
       "      <td>AUTOPISTA LUGONES KM 4.7</td>\n",
       "      <td>AUTOPISTA</td>\n",
       "      <td>...</td>\n",
       "      <td>NaN</td>\n",
       "      <td>PEATON-AUTO</td>\n",
       "      <td>PEATON</td>\n",
       "      <td>AUTO</td>\n",
       "      <td>5</td>\n",
       "      <td>1804</td>\n",
       "      <td>AUTOPISTA</td>\n",
       "      <td>muerte</td>\n",
       "      <td>NaN</td>\n",
       "      <td>NaN</td>\n",
       "    </tr>\n",
       "    <tr>\n",
       "      <th>546</th>\n",
       "      <td>2020-0026</td>\n",
       "      <td>1</td>\n",
       "      <td>2020-05-17</td>\n",
       "      <td>2020</td>\n",
       "      <td>5</td>\n",
       "      <td>17</td>\n",
       "      <td>06:40:00</td>\n",
       "      <td>6.0</td>\n",
       "      <td>LUGONES, LEOPOLDO AV. KM 6,1</td>\n",
       "      <td>AUTOPISTA</td>\n",
       "      <td>...</td>\n",
       "      <td>NaN</td>\n",
       "      <td>MOTO-OBJETO FIJO</td>\n",
       "      <td>MOTO</td>\n",
       "      <td>OBJETO FIJO</td>\n",
       "      <td>6</td>\n",
       "      <td>2005</td>\n",
       "      <td>AUTOPISTA</td>\n",
       "      <td>muerte</td>\n",
       "      <td>NaN</td>\n",
       "      <td>NaN</td>\n",
       "    </tr>\n",
       "    <tr>\n",
       "      <th>621</th>\n",
       "      <td>2021-0023</td>\n",
       "      <td>1</td>\n",
       "      <td>2021-03-01</td>\n",
       "      <td>2021</td>\n",
       "      <td>3</td>\n",
       "      <td>1</td>\n",
       "      <td>09:20:00</td>\n",
       "      <td>9.0</td>\n",
       "      <td>AU BUENOS AIRES LA PLATA  KM 4,5</td>\n",
       "      <td>AUTOPISTA</td>\n",
       "      <td>...</td>\n",
       "      <td>NaN</td>\n",
       "      <td>MOTO-CARGAS</td>\n",
       "      <td>MOTO</td>\n",
       "      <td>CARGAS</td>\n",
       "      <td>0</td>\n",
       "      <td>2103</td>\n",
       "      <td>AUTOPISTA</td>\n",
       "      <td>muerte</td>\n",
       "      <td>NaN</td>\n",
       "      <td>NaN</td>\n",
       "    </tr>\n",
       "  </tbody>\n",
       "</table>\n",
       "<p>8 rows × 27 columns</p>\n",
       "</div>"
      ],
      "text/plain": [
       "            id  n_victimas      fecha  aaaa  mm  dd      hora    hh  \\\n",
       "38   2016-0052           1 2016-04-20  2016   4  20  20:00:00  20.0   \n",
       "106  2016-0136           1 2016-10-25  2016  10  25  00:00:00   0.0   \n",
       "119  2016-0151           1 2016-11-18  2016  11  18  20:35:00  20.0   \n",
       "180  2017-0050           2 2017-04-28  2017   4  28  11:08:08  11.0   \n",
       "181  2017-0051           1 2017-05-01  2017   5   1  03:47:47   3.0   \n",
       "313  2018-0039           1 2018-04-21  2018   4  21  22:15:00  22.0   \n",
       "546  2020-0026           1 2020-05-17  2020   5  17  06:40:00   6.0   \n",
       "621  2021-0023           1 2021-03-01  2021   3   1  09:20:00   9.0   \n",
       "\n",
       "                             lugar_del_hecho tipo_de_calle  ... pos_y  \\\n",
       "38                AUTOPISTA LUGONES PK 10000     AUTOPISTA  ...   NaN   \n",
       "106         AU BUENOS AIRES - LA PLATA KM. 4     AUTOPISTA  ...   NaN   \n",
       "119                                       SD         CALLE  ...   NaN   \n",
       "180  AU PERITO MORENO Y RAMAL ENLACE AU1/AU6     AUTOPISTA  ...   NaN   \n",
       "181                       AU DELLEPIANE 2400     AUTOPISTA  ...   NaN   \n",
       "313                 AUTOPISTA LUGONES KM 4.7     AUTOPISTA  ...   NaN   \n",
       "546             LUGONES, LEOPOLDO AV. KM 6,1     AUTOPISTA  ...   NaN   \n",
       "621         AU BUENOS AIRES LA PLATA  KM 4,5     AUTOPISTA  ...   NaN   \n",
       "\n",
       "        participantes victima      acusado  dia_semana period  calle_tipo  \\\n",
       "38            MOTO-SD    MOTO           SD           2   1604   AUTOPISTA   \n",
       "106       MOTO-CARGAS    MOTO       CARGAS           1   1610   AUTOPISTA   \n",
       "119         PEATON-SD  PEATON           SD           4   1611       CALLE   \n",
       "180       MOTO-CARGAS    MOTO       CARGAS           4   1704   AUTOPISTA   \n",
       "181         AUTO-AUTO    AUTO         AUTO           0   1705   AUTOPISTA   \n",
       "313       PEATON-AUTO  PEATON         AUTO           5   1804   AUTOPISTA   \n",
       "546  MOTO-OBJETO FIJO    MOTO  OBJETO FIJO           6   2005   AUTOPISTA   \n",
       "621       MOTO-CARGAS    MOTO       CARGAS           0   2103   AUTOPISTA   \n",
       "\n",
       "     evento_tipo longitud latitud  \n",
       "38        muerte      NaN     NaN  \n",
       "106       muerte      NaN     NaN  \n",
       "119       muerte      NaN     NaN  \n",
       "180       muerte      NaN     NaN  \n",
       "181       muerte      NaN     NaN  \n",
       "313       muerte      NaN     NaN  \n",
       "546       muerte      NaN     NaN  \n",
       "621       muerte      NaN     NaN  \n",
       "\n",
       "[8 rows x 27 columns]"
      ]
     },
     "execution_count": 9,
     "metadata": {},
     "output_type": "execute_result"
    }
   ],
   "source": [
    "# Revisar los valores nulos del campo \"direccion_normalizada\"\n",
    "dfh_filt2 = dfh[dfh['direccion_normalizada'].isnull()]\n",
    "dfh_filt2\n",
    "# Conservaremos estos registros ya que si bien tienen valores nulos en este campo, tienen información valiosa en los otros campos"
   ]
  },
  {
   "cell_type": "code",
   "execution_count": 10,
   "metadata": {},
   "outputs": [
    {
     "data": {
      "text/html": [
       "<div>\n",
       "<style scoped>\n",
       "    .dataframe tbody tr th:only-of-type {\n",
       "        vertical-align: middle;\n",
       "    }\n",
       "\n",
       "    .dataframe tbody tr th {\n",
       "        vertical-align: top;\n",
       "    }\n",
       "\n",
       "    .dataframe thead th {\n",
       "        text-align: right;\n",
       "    }\n",
       "</style>\n",
       "<table border=\"1\" class=\"dataframe\">\n",
       "  <thead>\n",
       "    <tr style=\"text-align: right;\">\n",
       "      <th></th>\n",
       "      <th>id</th>\n",
       "      <th>n_victimas</th>\n",
       "      <th>fecha</th>\n",
       "      <th>aaaa</th>\n",
       "      <th>mm</th>\n",
       "      <th>dd</th>\n",
       "      <th>hora</th>\n",
       "      <th>hh</th>\n",
       "      <th>lugar_del_hecho</th>\n",
       "      <th>tipo_de_calle</th>\n",
       "      <th>...</th>\n",
       "      <th>pos_y</th>\n",
       "      <th>participantes</th>\n",
       "      <th>victima</th>\n",
       "      <th>acusado</th>\n",
       "      <th>dia_semana</th>\n",
       "      <th>period</th>\n",
       "      <th>calle_tipo</th>\n",
       "      <th>evento_tipo</th>\n",
       "      <th>longitud</th>\n",
       "      <th>latitud</th>\n",
       "    </tr>\n",
       "  </thead>\n",
       "  <tbody>\n",
       "    <tr>\n",
       "      <th>38</th>\n",
       "      <td>2016-0052</td>\n",
       "      <td>1</td>\n",
       "      <td>2016-04-20</td>\n",
       "      <td>2016</td>\n",
       "      <td>4</td>\n",
       "      <td>20</td>\n",
       "      <td>20:00:00</td>\n",
       "      <td>20.0</td>\n",
       "      <td>AUTOPISTA LUGONES PK 10000</td>\n",
       "      <td>AUTOPISTA</td>\n",
       "      <td>...</td>\n",
       "      <td>NaN</td>\n",
       "      <td>MOTO-SD</td>\n",
       "      <td>MOTO</td>\n",
       "      <td>SD</td>\n",
       "      <td>2</td>\n",
       "      <td>1604</td>\n",
       "      <td>AUTOPISTA</td>\n",
       "      <td>muerte</td>\n",
       "      <td>NaN</td>\n",
       "      <td>NaN</td>\n",
       "    </tr>\n",
       "    <tr>\n",
       "      <th>106</th>\n",
       "      <td>2016-0136</td>\n",
       "      <td>1</td>\n",
       "      <td>2016-10-25</td>\n",
       "      <td>2016</td>\n",
       "      <td>10</td>\n",
       "      <td>25</td>\n",
       "      <td>00:00:00</td>\n",
       "      <td>0.0</td>\n",
       "      <td>AU BUENOS AIRES - LA PLATA KM. 4</td>\n",
       "      <td>AUTOPISTA</td>\n",
       "      <td>...</td>\n",
       "      <td>NaN</td>\n",
       "      <td>MOTO-CARGAS</td>\n",
       "      <td>MOTO</td>\n",
       "      <td>CARGAS</td>\n",
       "      <td>1</td>\n",
       "      <td>1610</td>\n",
       "      <td>AUTOPISTA</td>\n",
       "      <td>muerte</td>\n",
       "      <td>NaN</td>\n",
       "      <td>NaN</td>\n",
       "    </tr>\n",
       "    <tr>\n",
       "      <th>119</th>\n",
       "      <td>2016-0151</td>\n",
       "      <td>1</td>\n",
       "      <td>2016-11-18</td>\n",
       "      <td>2016</td>\n",
       "      <td>11</td>\n",
       "      <td>18</td>\n",
       "      <td>20:35:00</td>\n",
       "      <td>20.0</td>\n",
       "      <td>SD</td>\n",
       "      <td>CALLE</td>\n",
       "      <td>...</td>\n",
       "      <td>NaN</td>\n",
       "      <td>PEATON-SD</td>\n",
       "      <td>PEATON</td>\n",
       "      <td>SD</td>\n",
       "      <td>4</td>\n",
       "      <td>1611</td>\n",
       "      <td>CALLE</td>\n",
       "      <td>muerte</td>\n",
       "      <td>NaN</td>\n",
       "      <td>NaN</td>\n",
       "    </tr>\n",
       "    <tr>\n",
       "      <th>139</th>\n",
       "      <td>2016-0174</td>\n",
       "      <td>1</td>\n",
       "      <td>2016-12-27</td>\n",
       "      <td>2016</td>\n",
       "      <td>12</td>\n",
       "      <td>27</td>\n",
       "      <td>00:00:00</td>\n",
       "      <td>0.0</td>\n",
       "      <td>AUTOPISTA 25 DE MAYO</td>\n",
       "      <td>AUTOPISTA</td>\n",
       "      <td>...</td>\n",
       "      <td>NaN</td>\n",
       "      <td>SD-SD</td>\n",
       "      <td>SD</td>\n",
       "      <td>SD</td>\n",
       "      <td>1</td>\n",
       "      <td>1612</td>\n",
       "      <td>AUTOPISTA</td>\n",
       "      <td>muerte</td>\n",
       "      <td>NaN</td>\n",
       "      <td>NaN</td>\n",
       "    </tr>\n",
       "    <tr>\n",
       "      <th>176</th>\n",
       "      <td>2017-0042</td>\n",
       "      <td>1</td>\n",
       "      <td>2017-04-10</td>\n",
       "      <td>2017</td>\n",
       "      <td>4</td>\n",
       "      <td>10</td>\n",
       "      <td>09:00:00</td>\n",
       "      <td>9.0</td>\n",
       "      <td>AV. LEOPOLDO LUGONES PKM 6900</td>\n",
       "      <td>GRAL PAZ</td>\n",
       "      <td>...</td>\n",
       "      <td>NaN</td>\n",
       "      <td>MOTO-CARGAS</td>\n",
       "      <td>MOTO</td>\n",
       "      <td>CARGAS</td>\n",
       "      <td>0</td>\n",
       "      <td>1704</td>\n",
       "      <td>GRAL PAZ</td>\n",
       "      <td>muerte</td>\n",
       "      <td>NaN</td>\n",
       "      <td>NaN</td>\n",
       "    </tr>\n",
       "    <tr>\n",
       "      <th>180</th>\n",
       "      <td>2017-0050</td>\n",
       "      <td>2</td>\n",
       "      <td>2017-04-28</td>\n",
       "      <td>2017</td>\n",
       "      <td>4</td>\n",
       "      <td>28</td>\n",
       "      <td>11:08:08</td>\n",
       "      <td>11.0</td>\n",
       "      <td>AU PERITO MORENO Y RAMAL ENLACE AU1/AU6</td>\n",
       "      <td>AUTOPISTA</td>\n",
       "      <td>...</td>\n",
       "      <td>NaN</td>\n",
       "      <td>MOTO-CARGAS</td>\n",
       "      <td>MOTO</td>\n",
       "      <td>CARGAS</td>\n",
       "      <td>4</td>\n",
       "      <td>1704</td>\n",
       "      <td>AUTOPISTA</td>\n",
       "      <td>muerte</td>\n",
       "      <td>NaN</td>\n",
       "      <td>NaN</td>\n",
       "    </tr>\n",
       "    <tr>\n",
       "      <th>181</th>\n",
       "      <td>2017-0051</td>\n",
       "      <td>1</td>\n",
       "      <td>2017-05-01</td>\n",
       "      <td>2017</td>\n",
       "      <td>5</td>\n",
       "      <td>1</td>\n",
       "      <td>03:47:47</td>\n",
       "      <td>3.0</td>\n",
       "      <td>AU DELLEPIANE 2400</td>\n",
       "      <td>AUTOPISTA</td>\n",
       "      <td>...</td>\n",
       "      <td>NaN</td>\n",
       "      <td>AUTO-AUTO</td>\n",
       "      <td>AUTO</td>\n",
       "      <td>AUTO</td>\n",
       "      <td>0</td>\n",
       "      <td>1705</td>\n",
       "      <td>AUTOPISTA</td>\n",
       "      <td>muerte</td>\n",
       "      <td>NaN</td>\n",
       "      <td>NaN</td>\n",
       "    </tr>\n",
       "    <tr>\n",
       "      <th>256</th>\n",
       "      <td>2017-0140</td>\n",
       "      <td>1</td>\n",
       "      <td>2017-11-19</td>\n",
       "      <td>2017</td>\n",
       "      <td>11</td>\n",
       "      <td>19</td>\n",
       "      <td>23:22:17</td>\n",
       "      <td>23.0</td>\n",
       "      <td>AU ARTURO FRONDIZI PKM 3100</td>\n",
       "      <td>AUTOPISTA</td>\n",
       "      <td>...</td>\n",
       "      <td>NaN</td>\n",
       "      <td>MOTO-PASAJEROS</td>\n",
       "      <td>MOTO</td>\n",
       "      <td>PASAJEROS</td>\n",
       "      <td>6</td>\n",
       "      <td>1711</td>\n",
       "      <td>AUTOPISTA</td>\n",
       "      <td>muerte</td>\n",
       "      <td>NaN</td>\n",
       "      <td>NaN</td>\n",
       "    </tr>\n",
       "    <tr>\n",
       "      <th>313</th>\n",
       "      <td>2018-0039</td>\n",
       "      <td>1</td>\n",
       "      <td>2018-04-21</td>\n",
       "      <td>2018</td>\n",
       "      <td>4</td>\n",
       "      <td>21</td>\n",
       "      <td>22:15:00</td>\n",
       "      <td>22.0</td>\n",
       "      <td>AUTOPISTA LUGONES KM 4.7</td>\n",
       "      <td>AUTOPISTA</td>\n",
       "      <td>...</td>\n",
       "      <td>NaN</td>\n",
       "      <td>PEATON-AUTO</td>\n",
       "      <td>PEATON</td>\n",
       "      <td>AUTO</td>\n",
       "      <td>5</td>\n",
       "      <td>1804</td>\n",
       "      <td>AUTOPISTA</td>\n",
       "      <td>muerte</td>\n",
       "      <td>NaN</td>\n",
       "      <td>NaN</td>\n",
       "    </tr>\n",
       "    <tr>\n",
       "      <th>546</th>\n",
       "      <td>2020-0026</td>\n",
       "      <td>1</td>\n",
       "      <td>2020-05-17</td>\n",
       "      <td>2020</td>\n",
       "      <td>5</td>\n",
       "      <td>17</td>\n",
       "      <td>06:40:00</td>\n",
       "      <td>6.0</td>\n",
       "      <td>LUGONES, LEOPOLDO AV. KM 6,1</td>\n",
       "      <td>AUTOPISTA</td>\n",
       "      <td>...</td>\n",
       "      <td>NaN</td>\n",
       "      <td>MOTO-OBJETO FIJO</td>\n",
       "      <td>MOTO</td>\n",
       "      <td>OBJETO FIJO</td>\n",
       "      <td>6</td>\n",
       "      <td>2005</td>\n",
       "      <td>AUTOPISTA</td>\n",
       "      <td>muerte</td>\n",
       "      <td>NaN</td>\n",
       "      <td>NaN</td>\n",
       "    </tr>\n",
       "    <tr>\n",
       "      <th>559</th>\n",
       "      <td>2020-0039</td>\n",
       "      <td>1</td>\n",
       "      <td>2020-09-01</td>\n",
       "      <td>2020</td>\n",
       "      <td>9</td>\n",
       "      <td>1</td>\n",
       "      <td>19:17:42</td>\n",
       "      <td>19.0</td>\n",
       "      <td>MURGUIONDO 2700</td>\n",
       "      <td>CALLE</td>\n",
       "      <td>...</td>\n",
       "      <td>NaN</td>\n",
       "      <td>PEATON-CARGAS</td>\n",
       "      <td>PEATON</td>\n",
       "      <td>CARGAS</td>\n",
       "      <td>1</td>\n",
       "      <td>2009</td>\n",
       "      <td>CALLE</td>\n",
       "      <td>muerte</td>\n",
       "      <td>NaN</td>\n",
       "      <td>NaN</td>\n",
       "    </tr>\n",
       "    <tr>\n",
       "      <th>621</th>\n",
       "      <td>2021-0023</td>\n",
       "      <td>1</td>\n",
       "      <td>2021-03-01</td>\n",
       "      <td>2021</td>\n",
       "      <td>3</td>\n",
       "      <td>1</td>\n",
       "      <td>09:20:00</td>\n",
       "      <td>9.0</td>\n",
       "      <td>AU BUENOS AIRES LA PLATA  KM 4,5</td>\n",
       "      <td>AUTOPISTA</td>\n",
       "      <td>...</td>\n",
       "      <td>NaN</td>\n",
       "      <td>MOTO-CARGAS</td>\n",
       "      <td>MOTO</td>\n",
       "      <td>CARGAS</td>\n",
       "      <td>0</td>\n",
       "      <td>2103</td>\n",
       "      <td>AUTOPISTA</td>\n",
       "      <td>muerte</td>\n",
       "      <td>NaN</td>\n",
       "      <td>NaN</td>\n",
       "    </tr>\n",
       "  </tbody>\n",
       "</table>\n",
       "<p>12 rows × 27 columns</p>\n",
       "</div>"
      ],
      "text/plain": [
       "            id  n_victimas      fecha  aaaa  mm  dd      hora    hh  \\\n",
       "38   2016-0052           1 2016-04-20  2016   4  20  20:00:00  20.0   \n",
       "106  2016-0136           1 2016-10-25  2016  10  25  00:00:00   0.0   \n",
       "119  2016-0151           1 2016-11-18  2016  11  18  20:35:00  20.0   \n",
       "139  2016-0174           1 2016-12-27  2016  12  27  00:00:00   0.0   \n",
       "176  2017-0042           1 2017-04-10  2017   4  10  09:00:00   9.0   \n",
       "180  2017-0050           2 2017-04-28  2017   4  28  11:08:08  11.0   \n",
       "181  2017-0051           1 2017-05-01  2017   5   1  03:47:47   3.0   \n",
       "256  2017-0140           1 2017-11-19  2017  11  19  23:22:17  23.0   \n",
       "313  2018-0039           1 2018-04-21  2018   4  21  22:15:00  22.0   \n",
       "546  2020-0026           1 2020-05-17  2020   5  17  06:40:00   6.0   \n",
       "559  2020-0039           1 2020-09-01  2020   9   1  19:17:42  19.0   \n",
       "621  2021-0023           1 2021-03-01  2021   3   1  09:20:00   9.0   \n",
       "\n",
       "                             lugar_del_hecho tipo_de_calle  ... pos_y  \\\n",
       "38                AUTOPISTA LUGONES PK 10000     AUTOPISTA  ...   NaN   \n",
       "106         AU BUENOS AIRES - LA PLATA KM. 4     AUTOPISTA  ...   NaN   \n",
       "119                                       SD         CALLE  ...   NaN   \n",
       "139                     AUTOPISTA 25 DE MAYO     AUTOPISTA  ...   NaN   \n",
       "176            AV. LEOPOLDO LUGONES PKM 6900      GRAL PAZ  ...   NaN   \n",
       "180  AU PERITO MORENO Y RAMAL ENLACE AU1/AU6     AUTOPISTA  ...   NaN   \n",
       "181                       AU DELLEPIANE 2400     AUTOPISTA  ...   NaN   \n",
       "256              AU ARTURO FRONDIZI PKM 3100     AUTOPISTA  ...   NaN   \n",
       "313                 AUTOPISTA LUGONES KM 4.7     AUTOPISTA  ...   NaN   \n",
       "546             LUGONES, LEOPOLDO AV. KM 6,1     AUTOPISTA  ...   NaN   \n",
       "559                          MURGUIONDO 2700         CALLE  ...   NaN   \n",
       "621         AU BUENOS AIRES LA PLATA  KM 4,5     AUTOPISTA  ...   NaN   \n",
       "\n",
       "        participantes victima      acusado  dia_semana period  calle_tipo  \\\n",
       "38            MOTO-SD    MOTO           SD           2   1604   AUTOPISTA   \n",
       "106       MOTO-CARGAS    MOTO       CARGAS           1   1610   AUTOPISTA   \n",
       "119         PEATON-SD  PEATON           SD           4   1611       CALLE   \n",
       "139             SD-SD      SD           SD           1   1612   AUTOPISTA   \n",
       "176       MOTO-CARGAS    MOTO       CARGAS           0   1704    GRAL PAZ   \n",
       "180       MOTO-CARGAS    MOTO       CARGAS           4   1704   AUTOPISTA   \n",
       "181         AUTO-AUTO    AUTO         AUTO           0   1705   AUTOPISTA   \n",
       "256    MOTO-PASAJEROS    MOTO    PASAJEROS           6   1711   AUTOPISTA   \n",
       "313       PEATON-AUTO  PEATON         AUTO           5   1804   AUTOPISTA   \n",
       "546  MOTO-OBJETO FIJO    MOTO  OBJETO FIJO           6   2005   AUTOPISTA   \n",
       "559     PEATON-CARGAS  PEATON       CARGAS           1   2009       CALLE   \n",
       "621       MOTO-CARGAS    MOTO       CARGAS           0   2103   AUTOPISTA   \n",
       "\n",
       "     evento_tipo longitud latitud  \n",
       "38        muerte      NaN     NaN  \n",
       "106       muerte      NaN     NaN  \n",
       "119       muerte      NaN     NaN  \n",
       "139       muerte      NaN     NaN  \n",
       "176       muerte      NaN     NaN  \n",
       "180       muerte      NaN     NaN  \n",
       "181       muerte      NaN     NaN  \n",
       "256       muerte      NaN     NaN  \n",
       "313       muerte      NaN     NaN  \n",
       "546       muerte      NaN     NaN  \n",
       "559       muerte      NaN     NaN  \n",
       "621       muerte      NaN     NaN  \n",
       "\n",
       "[12 rows x 27 columns]"
      ]
     },
     "execution_count": 10,
     "metadata": {},
     "output_type": "execute_result"
    }
   ],
   "source": [
    "# Revisar los valores nulos del campo \"pos_x\" y \"pos_y\"\n",
    "dfh_filt3 = dfh[dfh['pos_x'].isnull()]\n",
    "dfh_filt3\n",
    "# Los valores no pueden calcularse ya que no cuentan con el input para su cálculo; optaremos por conservar estos registros"
   ]
  },
  {
   "cell_type": "code",
   "execution_count": 11,
   "metadata": {},
   "outputs": [],
   "source": [
    "# Eliminar los registros cuya comuna presenta el valor cero\n",
    "dfh = dfh.drop(dfh[dfh['comuna'] == 0].index)"
   ]
  },
  {
   "attachments": {},
   "cell_type": "markdown",
   "metadata": {},
   "source": [
    "Tratamiento de valores nulos\n",
    "\n",
    "* Valores nulos de \"hh\": conservaremos este registro ya que le falta un solo valor\n",
    "* Valores nulos de \"direccion_normalizada\": estos valores no se usarán por lo cual conservaremos estos registros\n",
    "* Valores nulos de \"pos_x\" y \"pos_y\": a efectos del EDA estos valores no serán necesarios\n",
    "* Valores nulos de \"comuna\": eliminados pues más adelante afectará a un cálculo"
   ]
  },
  {
   "cell_type": "code",
   "execution_count": 12,
   "metadata": {},
   "outputs": [
    {
     "name": "stdout",
     "output_type": "stream",
     "text": [
      "<class 'pandas.core.frame.DataFrame'>\n",
      "Index: 694 entries, 0 to 695\n",
      "Data columns (total 21 columns):\n",
      " #   Column                 Non-Null Count  Dtype         \n",
      "---  ------                 --------------  -----         \n",
      " 0   id                     694 non-null    object        \n",
      " 1   n_victimas             694 non-null    int64         \n",
      " 2   fecha                  694 non-null    datetime64[ns]\n",
      " 3   aaaa                   694 non-null    int64         \n",
      " 4   mm                     694 non-null    int64         \n",
      " 5   dd                     694 non-null    int64         \n",
      " 6   dia_semana             694 non-null    int32         \n",
      " 7   hh                     693 non-null    float64       \n",
      " 8   period                 694 non-null    object        \n",
      " 9   lugar_del_hecho        694 non-null    object        \n",
      " 10  direccion_normalizada  687 non-null    object        \n",
      " 11  calle_tipo             694 non-null    object        \n",
      " 12  comuna                 694 non-null    int64         \n",
      " 13  pos_x                  684 non-null    float64       \n",
      " 14  pos_y                  684 non-null    float64       \n",
      " 15  latitud                684 non-null    float64       \n",
      " 16  longitud               684 non-null    float64       \n",
      " 17  participantes          694 non-null    object        \n",
      " 18  victima                694 non-null    object        \n",
      " 19  acusado                694 non-null    object        \n",
      " 20  evento_tipo            694 non-null    object        \n",
      "dtypes: datetime64[ns](1), float64(5), int32(1), int64(5), object(9)\n",
      "memory usage: 116.6+ KB\n"
     ]
    }
   ],
   "source": [
    "# Dataset depurado\n",
    "dfh = dfh[['id', 'n_victimas', 'fecha', 'aaaa', 'mm','dd', 'dia_semana', 'hh', 'period',\n",
    "           'lugar_del_hecho', 'direccion_normalizada', 'calle_tipo', 'comuna', 'pos_x', 'pos_y', 'latitud', 'longitud', \n",
    "            'participantes', 'victima', 'acusado', 'evento_tipo' ]]\n",
    "dfh.info()"
   ]
  },
  {
   "attachments": {},
   "cell_type": "markdown",
   "metadata": {},
   "source": [
    "## Dataset LESIONES"
   ]
  },
  {
   "cell_type": "code",
   "execution_count": 13,
   "metadata": {},
   "outputs": [
    {
     "data": {
      "text/html": [
       "<div>\n",
       "<style scoped>\n",
       "    .dataframe tbody tr th:only-of-type {\n",
       "        vertical-align: middle;\n",
       "    }\n",
       "\n",
       "    .dataframe tbody tr th {\n",
       "        vertical-align: top;\n",
       "    }\n",
       "\n",
       "    .dataframe thead th {\n",
       "        text-align: right;\n",
       "    }\n",
       "</style>\n",
       "<table border=\"1\" class=\"dataframe\">\n",
       "  <thead>\n",
       "    <tr style=\"text-align: right;\">\n",
       "      <th></th>\n",
       "      <th>id</th>\n",
       "      <th>n_victimas</th>\n",
       "      <th>aaaa</th>\n",
       "      <th>mm</th>\n",
       "      <th>dd</th>\n",
       "      <th>fecha</th>\n",
       "      <th>hora</th>\n",
       "      <th>franja_hora</th>\n",
       "      <th>direccion_normalizada</th>\n",
       "      <th>comuna</th>\n",
       "      <th>...</th>\n",
       "      <th>latutid</th>\n",
       "      <th>victima</th>\n",
       "      <th>acusado</th>\n",
       "      <th>participantes</th>\n",
       "      <th>moto</th>\n",
       "      <th>auto</th>\n",
       "      <th>transporte_publico</th>\n",
       "      <th>camion</th>\n",
       "      <th>ciclista</th>\n",
       "      <th>gravedad</th>\n",
       "    </tr>\n",
       "  </thead>\n",
       "  <tbody>\n",
       "    <tr>\n",
       "      <th>0</th>\n",
       "      <td>LC-2019-0000179</td>\n",
       "      <td>1</td>\n",
       "      <td>2019</td>\n",
       "      <td>1</td>\n",
       "      <td>1</td>\n",
       "      <td>2019-01-01 00:00:00</td>\n",
       "      <td>09:00:00</td>\n",
       "      <td>9</td>\n",
       "      <td>SD</td>\n",
       "      <td>14</td>\n",
       "      <td>...</td>\n",
       "      <td>-34.559658</td>\n",
       "      <td>CICLISTA</td>\n",
       "      <td>SD</td>\n",
       "      <td>CICLISTA-SD</td>\n",
       "      <td>SD</td>\n",
       "      <td>SD</td>\n",
       "      <td>SD</td>\n",
       "      <td>SD</td>\n",
       "      <td>x</td>\n",
       "      <td>SD</td>\n",
       "    </tr>\n",
       "    <tr>\n",
       "      <th>1</th>\n",
       "      <td>LC-2019-0000053</td>\n",
       "      <td>1</td>\n",
       "      <td>2019</td>\n",
       "      <td>1</td>\n",
       "      <td>1</td>\n",
       "      <td>2019-01-01 00:00:00</td>\n",
       "      <td>01:55:00</td>\n",
       "      <td>1</td>\n",
       "      <td>SD</td>\n",
       "      <td>8</td>\n",
       "      <td>...</td>\n",
       "      <td>-34.669125</td>\n",
       "      <td>AUTO</td>\n",
       "      <td>SD</td>\n",
       "      <td>AUTO-SD</td>\n",
       "      <td>SD</td>\n",
       "      <td>x</td>\n",
       "      <td>SD</td>\n",
       "      <td>SD</td>\n",
       "      <td>SD</td>\n",
       "      <td>SD</td>\n",
       "    </tr>\n",
       "  </tbody>\n",
       "</table>\n",
       "<p>2 rows × 27 columns</p>\n",
       "</div>"
      ],
      "text/plain": [
       "                id  n_victimas  aaaa  mm  dd                fecha      hora  \\\n",
       "0  LC-2019-0000179           1  2019   1   1  2019-01-01 00:00:00  09:00:00   \n",
       "1  LC-2019-0000053           1  2019   1   1  2019-01-01 00:00:00  01:55:00   \n",
       "\n",
       "  franja_hora direccion_normalizada comuna  ...     latutid   victima acusado  \\\n",
       "0           9                    SD     14  ...  -34.559658  CICLISTA      SD   \n",
       "1           1                    SD      8  ...  -34.669125      AUTO      SD   \n",
       "\n",
       "   participantes moto auto transporte_publico camion ciclista gravedad  \n",
       "0    CICLISTA-SD   SD   SD                 SD     SD        x       SD  \n",
       "1        AUTO-SD   SD    x                 SD     SD       SD       SD  \n",
       "\n",
       "[2 rows x 27 columns]"
      ]
     },
     "execution_count": 13,
     "metadata": {},
     "output_type": "execute_result"
    }
   ],
   "source": [
    "dfl.head(2)"
   ]
  },
  {
   "cell_type": "code",
   "execution_count": 14,
   "metadata": {},
   "outputs": [
    {
     "name": "stdout",
     "output_type": "stream",
     "text": [
      "<class 'pandas.core.frame.DataFrame'>\n",
      "RangeIndex: 23785 entries, 0 to 23784\n",
      "Data columns (total 27 columns):\n",
      " #   Column                 Non-Null Count  Dtype  \n",
      "---  ------                 --------------  -----  \n",
      " 0   id                     23785 non-null  object \n",
      " 1   n_victimas             23785 non-null  int64  \n",
      " 2   aaaa                   23785 non-null  int64  \n",
      " 3   mm                     23785 non-null  int64  \n",
      " 4   dd                     23785 non-null  int64  \n",
      " 5   fecha                  23785 non-null  object \n",
      " 6   hora                   23785 non-null  object \n",
      " 7   franja_hora            23780 non-null  object \n",
      " 8   direccion_normalizada  23732 non-null  object \n",
      " 9   comuna                 23616 non-null  object \n",
      " 10  tipo_calle             23785 non-null  object \n",
      " 11  otra_direccion         23785 non-null  object \n",
      " 12  calle                  12867 non-null  object \n",
      " 13  altura                 12771 non-null  float64\n",
      " 14  cruce                  9407 non-null   object \n",
      " 15  geocodificacion_CABA   23746 non-null  object \n",
      " 16  longitud               23523 non-null  object \n",
      " 17  latutid                23523 non-null  object \n",
      " 18  victima                23785 non-null  object \n",
      " 19  acusado                23785 non-null  object \n",
      " 20  participantes          23785 non-null  object \n",
      " 21  moto                   23692 non-null  object \n",
      " 22  auto                   23692 non-null  object \n",
      " 23  transporte_publico     23692 non-null  object \n",
      " 24  camion                 23692 non-null  object \n",
      " 25  ciclista               23692 non-null  object \n",
      " 26  gravedad               23785 non-null  object \n",
      "dtypes: float64(1), int64(4), object(22)\n",
      "memory usage: 4.9+ MB\n"
     ]
    }
   ],
   "source": [
    "dfl.info()"
   ]
  },
  {
   "cell_type": "code",
   "execution_count": 15,
   "metadata": {},
   "outputs": [
    {
     "name": "stdout",
     "output_type": "stream",
     "text": [
      "<class 'pandas.core.frame.DataFrame'>\n",
      "RangeIndex: 23785 entries, 0 to 23784\n",
      "Data columns (total 21 columns):\n",
      " #   Column                 Non-Null Count  Dtype         \n",
      "---  ------                 --------------  -----         \n",
      " 0   id                     23785 non-null  object        \n",
      " 1   n_victimas             23785 non-null  int64         \n",
      " 2   fecha                  23785 non-null  datetime64[ns]\n",
      " 3   aaaa                   23785 non-null  int64         \n",
      " 4   mm                     23785 non-null  int64         \n",
      " 5   dd                     23785 non-null  int64         \n",
      " 6   dia_semana             23785 non-null  int32         \n",
      " 7   hh                     23776 non-null  float64       \n",
      " 8   period                 23785 non-null  object        \n",
      " 9   lugar_del_hecho        12917 non-null  object        \n",
      " 10  direccion_normalizada  12917 non-null  object        \n",
      " 11  calle_tipo             12740 non-null  object        \n",
      " 12  comuna                 22328 non-null  float64       \n",
      " 13  pos_x                  22314 non-null  float64       \n",
      " 14  pos_y                  22314 non-null  float64       \n",
      " 15  latitud                22314 non-null  float64       \n",
      " 16  longitud               22314 non-null  float64       \n",
      " 17  participantes          23785 non-null  object        \n",
      " 18  victima                13052 non-null  object        \n",
      " 19  acusado                8497 non-null   object        \n",
      " 20  evento_tipo            23785 non-null  object        \n",
      "dtypes: datetime64[ns](1), float64(6), int32(1), int64(4), object(9)\n",
      "memory usage: 3.7+ MB\n"
     ]
    }
   ],
   "source": [
    "# Transformación de datos y adecuación de campos\n",
    "dfl['fecha'] = pd.to_datetime(dfl['fecha'])\n",
    "dfl['dia_semana'] = dfl['fecha'].dt.dayofweek\n",
    "dfl['hh'] = pd.to_numeric(dfl['franja_hora'], errors='coerce')\n",
    "dfl['period'] = dfl['fecha'].dt.strftime('%y%m')\n",
    "\n",
    "\n",
    "dfl['lugar_del_hecho'] =  dfl['direccion_normalizada']\n",
    "dfl['calle_tipo'] = dfl['tipo_calle']\n",
    "dfl['comuna'] = pd.to_numeric(dfl['comuna'], errors='coerce')\n",
    "\n",
    "dfl['latitud'] = dfl['latutid']\n",
    "dfl['latitud'] = pd.to_numeric(dfl['latitud'], errors='coerce')\n",
    "dfl['longitud'] = pd.to_numeric(dfl['longitud'], errors='coerce')\n",
    "transformer = pyproj.Transformer.from_crs(\"epsg:4326\", \"epsg:3857\", always_xy=True)\n",
    "dfl['pos_x'], dfl['pos_y'] = transformer.transform(dfl['longitud'].values, dfl['latitud'].values)\n",
    "\n",
    "dfl['participantes'] = dfl['victima'] + \"-\" + dfl['acusado']\n",
    "dfl['evento_tipo'] = \"lesión\"\n",
    "\n",
    "# Adecuación de valores nulos\n",
    "dfl.replace('SD', pd.NA, inplace=True)\n",
    "\n",
    "dfl = dfl[['id', 'n_victimas', 'fecha', 'aaaa', 'mm','dd', 'dia_semana', 'hh', 'period',\n",
    "           'lugar_del_hecho', 'direccion_normalizada', 'calle_tipo', 'comuna', 'pos_x', 'pos_y', 'latitud', 'longitud',\n",
    "            'participantes', 'victima', 'acusado', 'evento_tipo' ]]\n",
    "dfl.info()"
   ]
  },
  {
   "cell_type": "code",
   "execution_count": 16,
   "metadata": {},
   "outputs": [
    {
     "data": {
      "text/html": [
       "<div>\n",
       "<style scoped>\n",
       "    .dataframe tbody tr th:only-of-type {\n",
       "        vertical-align: middle;\n",
       "    }\n",
       "\n",
       "    .dataframe tbody tr th {\n",
       "        vertical-align: top;\n",
       "    }\n",
       "\n",
       "    .dataframe thead th {\n",
       "        text-align: right;\n",
       "    }\n",
       "</style>\n",
       "<table border=\"1\" class=\"dataframe\">\n",
       "  <thead>\n",
       "    <tr style=\"text-align: right;\">\n",
       "      <th></th>\n",
       "      <th>id</th>\n",
       "      <th>n_victimas</th>\n",
       "      <th>fecha</th>\n",
       "      <th>aaaa</th>\n",
       "      <th>mm</th>\n",
       "      <th>dd</th>\n",
       "      <th>dia_semana</th>\n",
       "      <th>hh</th>\n",
       "      <th>period</th>\n",
       "      <th>lugar_del_hecho</th>\n",
       "      <th>...</th>\n",
       "      <th>calle_tipo</th>\n",
       "      <th>comuna</th>\n",
       "      <th>pos_x</th>\n",
       "      <th>pos_y</th>\n",
       "      <th>latitud</th>\n",
       "      <th>longitud</th>\n",
       "      <th>participantes</th>\n",
       "      <th>victima</th>\n",
       "      <th>acusado</th>\n",
       "      <th>evento_tipo</th>\n",
       "    </tr>\n",
       "  </thead>\n",
       "  <tbody>\n",
       "    <tr>\n",
       "      <th>0</th>\n",
       "      <td>LC-2019-0000179</td>\n",
       "      <td>1</td>\n",
       "      <td>2019-01-01</td>\n",
       "      <td>2019</td>\n",
       "      <td>1</td>\n",
       "      <td>1</td>\n",
       "      <td>1</td>\n",
       "      <td>9.0</td>\n",
       "      <td>1901</td>\n",
       "      <td>&lt;NA&gt;</td>\n",
       "      <td>...</td>\n",
       "      <td>&lt;NA&gt;</td>\n",
       "      <td>14.0</td>\n",
       "      <td>-6.502050e+06</td>\n",
       "      <td>-4.104200e+06</td>\n",
       "      <td>-34.559658</td>\n",
       "      <td>-58.408911</td>\n",
       "      <td>CICLISTA-SD</td>\n",
       "      <td>CICLISTA</td>\n",
       "      <td>&lt;NA&gt;</td>\n",
       "      <td>lesión</td>\n",
       "    </tr>\n",
       "    <tr>\n",
       "      <th>1</th>\n",
       "      <td>LC-2019-0000053</td>\n",
       "      <td>1</td>\n",
       "      <td>2019-01-01</td>\n",
       "      <td>2019</td>\n",
       "      <td>1</td>\n",
       "      <td>1</td>\n",
       "      <td>1</td>\n",
       "      <td>1.0</td>\n",
       "      <td>1901</td>\n",
       "      <td>&lt;NA&gt;</td>\n",
       "      <td>...</td>\n",
       "      <td>&lt;NA&gt;</td>\n",
       "      <td>8.0</td>\n",
       "      <td>-6.505902e+06</td>\n",
       "      <td>-4.119007e+06</td>\n",
       "      <td>-34.669125</td>\n",
       "      <td>-58.443510</td>\n",
       "      <td>AUTO-SD</td>\n",
       "      <td>AUTO</td>\n",
       "      <td>&lt;NA&gt;</td>\n",
       "      <td>lesión</td>\n",
       "    </tr>\n",
       "  </tbody>\n",
       "</table>\n",
       "<p>2 rows × 21 columns</p>\n",
       "</div>"
      ],
      "text/plain": [
       "                id  n_victimas      fecha  aaaa  mm  dd  dia_semana   hh  \\\n",
       "0  LC-2019-0000179           1 2019-01-01  2019   1   1           1  9.0   \n",
       "1  LC-2019-0000053           1 2019-01-01  2019   1   1           1  1.0   \n",
       "\n",
       "  period lugar_del_hecho  ... calle_tipo comuna         pos_x         pos_y  \\\n",
       "0   1901            <NA>  ...       <NA>   14.0 -6.502050e+06 -4.104200e+06   \n",
       "1   1901            <NA>  ...       <NA>    8.0 -6.505902e+06 -4.119007e+06   \n",
       "\n",
       "     latitud   longitud  participantes   victima acusado evento_tipo  \n",
       "0 -34.559658 -58.408911    CICLISTA-SD  CICLISTA    <NA>      lesión  \n",
       "1 -34.669125 -58.443510        AUTO-SD      AUTO    <NA>      lesión  \n",
       "\n",
       "[2 rows x 21 columns]"
      ]
     },
     "execution_count": 16,
     "metadata": {},
     "output_type": "execute_result"
    }
   ],
   "source": [
    "dfl.head(2)"
   ]
  },
  {
   "cell_type": "code",
   "execution_count": 17,
   "metadata": {},
   "outputs": [
    {
     "data": {
      "text/plain": [
       "0"
      ]
     },
     "execution_count": 17,
     "metadata": {},
     "output_type": "execute_result"
    }
   ],
   "source": [
    "# Verificación de duplicados\n",
    "dfl.duplicated().sum()\n",
    "# No se observan duplicado"
   ]
  },
  {
   "cell_type": "code",
   "execution_count": 18,
   "metadata": {},
   "outputs": [
    {
     "data": {
      "text/plain": [
       "id                           0\n",
       "n_victimas                   0\n",
       "fecha                        0\n",
       "aaaa                         0\n",
       "mm                           0\n",
       "dd                           0\n",
       "dia_semana                   0\n",
       "hh                           9\n",
       "period                       0\n",
       "lugar_del_hecho          10868\n",
       "direccion_normalizada    10868\n",
       "calle_tipo               11045\n",
       "comuna                    1457\n",
       "pos_x                     1471\n",
       "pos_y                     1471\n",
       "latitud                   1471\n",
       "longitud                  1471\n",
       "participantes                0\n",
       "victima                  10733\n",
       "acusado                  15288\n",
       "evento_tipo                  0\n",
       "dtype: int64"
      ]
     },
     "execution_count": 18,
     "metadata": {},
     "output_type": "execute_result"
    }
   ],
   "source": [
    "# Verificación de nulos\n",
    "dfl.isnull().sum()\n",
    "# Conservaremos los registros con valores nulos"
   ]
  },
  {
   "cell_type": "code",
   "execution_count": 19,
   "metadata": {},
   "outputs": [
    {
     "data": {
      "text/html": [
       "<div>\n",
       "<style scoped>\n",
       "    .dataframe tbody tr th:only-of-type {\n",
       "        vertical-align: middle;\n",
       "    }\n",
       "\n",
       "    .dataframe tbody tr th {\n",
       "        vertical-align: top;\n",
       "    }\n",
       "\n",
       "    .dataframe thead th {\n",
       "        text-align: right;\n",
       "    }\n",
       "</style>\n",
       "<table border=\"1\" class=\"dataframe\">\n",
       "  <thead>\n",
       "    <tr style=\"text-align: right;\">\n",
       "      <th></th>\n",
       "      <th>id</th>\n",
       "      <th>n_victimas</th>\n",
       "      <th>fecha</th>\n",
       "      <th>aaaa</th>\n",
       "      <th>mm</th>\n",
       "      <th>dd</th>\n",
       "      <th>dia_semana</th>\n",
       "      <th>hh</th>\n",
       "      <th>period</th>\n",
       "      <th>lugar_del_hecho</th>\n",
       "      <th>...</th>\n",
       "      <th>calle_tipo</th>\n",
       "      <th>comuna</th>\n",
       "      <th>pos_x</th>\n",
       "      <th>pos_y</th>\n",
       "      <th>latitud</th>\n",
       "      <th>longitud</th>\n",
       "      <th>participantes</th>\n",
       "      <th>victima</th>\n",
       "      <th>acusado</th>\n",
       "      <th>evento_tipo</th>\n",
       "    </tr>\n",
       "  </thead>\n",
       "  <tbody>\n",
       "    <tr>\n",
       "      <th>15396</th>\n",
       "      <td>LC-2020-0638557</td>\n",
       "      <td>1</td>\n",
       "      <td>2020-12-01</td>\n",
       "      <td>2020</td>\n",
       "      <td>12</td>\n",
       "      <td>1</td>\n",
       "      <td>1</td>\n",
       "      <td>14.0</td>\n",
       "      <td>2012</td>\n",
       "      <td>AVELLANEDA AV. y BAHIA BLANCA</td>\n",
       "      <td>...</td>\n",
       "      <td>AVENIDA</td>\n",
       "      <td>10.0</td>\n",
       "      <td>-6.510221e+06</td>\n",
       "      <td>-4.113599e+06</td>\n",
       "      <td>-34.629157</td>\n",
       "      <td>-58.482311</td>\n",
       "      <td>SD-SD</td>\n",
       "      <td>&lt;NA&gt;</td>\n",
       "      <td>&lt;NA&gt;</td>\n",
       "      <td>lesión</td>\n",
       "    </tr>\n",
       "    <tr>\n",
       "      <th>865</th>\n",
       "      <td>LC-2019-0077333</td>\n",
       "      <td>1</td>\n",
       "      <td>2019-02-06</td>\n",
       "      <td>2019</td>\n",
       "      <td>2</td>\n",
       "      <td>6</td>\n",
       "      <td>2</td>\n",
       "      <td>9.0</td>\n",
       "      <td>1902</td>\n",
       "      <td>&lt;NA&gt;</td>\n",
       "      <td>...</td>\n",
       "      <td>&lt;NA&gt;</td>\n",
       "      <td>12.0</td>\n",
       "      <td>-6.511447e+06</td>\n",
       "      <td>-4.102675e+06</td>\n",
       "      <td>-34.548370</td>\n",
       "      <td>-58.493326</td>\n",
       "      <td>AUTO-SD</td>\n",
       "      <td>AUTO</td>\n",
       "      <td>&lt;NA&gt;</td>\n",
       "      <td>lesión</td>\n",
       "    </tr>\n",
       "    <tr>\n",
       "      <th>4321</th>\n",
       "      <td>LC-2019-0328307</td>\n",
       "      <td>1</td>\n",
       "      <td>2019-05-26</td>\n",
       "      <td>2019</td>\n",
       "      <td>5</td>\n",
       "      <td>26</td>\n",
       "      <td>6</td>\n",
       "      <td>20.0</td>\n",
       "      <td>1905</td>\n",
       "      <td>&lt;NA&gt;</td>\n",
       "      <td>...</td>\n",
       "      <td>&lt;NA&gt;</td>\n",
       "      <td>10.0</td>\n",
       "      <td>-6.510404e+06</td>\n",
       "      <td>-4.114086e+06</td>\n",
       "      <td>-34.632759</td>\n",
       "      <td>-58.483955</td>\n",
       "      <td>MOTO-SD</td>\n",
       "      <td>MOTO</td>\n",
       "      <td>&lt;NA&gt;</td>\n",
       "      <td>lesión</td>\n",
       "    </tr>\n",
       "    <tr>\n",
       "      <th>5776</th>\n",
       "      <td>LC-2019-0430751</td>\n",
       "      <td>2</td>\n",
       "      <td>2019-07-12</td>\n",
       "      <td>2019</td>\n",
       "      <td>7</td>\n",
       "      <td>12</td>\n",
       "      <td>4</td>\n",
       "      <td>16.0</td>\n",
       "      <td>1907</td>\n",
       "      <td>&lt;NA&gt;</td>\n",
       "      <td>...</td>\n",
       "      <td>&lt;NA&gt;</td>\n",
       "      <td>12.0</td>\n",
       "      <td>-6.512646e+06</td>\n",
       "      <td>-4.108435e+06</td>\n",
       "      <td>-34.590980</td>\n",
       "      <td>-58.504092</td>\n",
       "      <td>SD-SD</td>\n",
       "      <td>&lt;NA&gt;</td>\n",
       "      <td>&lt;NA&gt;</td>\n",
       "      <td>lesión</td>\n",
       "    </tr>\n",
       "    <tr>\n",
       "      <th>20931</th>\n",
       "      <td>LC-2021-0420152</td>\n",
       "      <td>1</td>\n",
       "      <td>2021-08-24</td>\n",
       "      <td>2021</td>\n",
       "      <td>8</td>\n",
       "      <td>24</td>\n",
       "      <td>1</td>\n",
       "      <td>19.0</td>\n",
       "      <td>2108</td>\n",
       "      <td>SARANDI y REPUBLICA BOLIVARIANA DE VENEZUELA</td>\n",
       "      <td>...</td>\n",
       "      <td>CALLE</td>\n",
       "      <td>3.0</td>\n",
       "      <td>-6.500460e+06</td>\n",
       "      <td>-4.111703e+06</td>\n",
       "      <td>-34.615144</td>\n",
       "      <td>-58.394629</td>\n",
       "      <td>SD-SD</td>\n",
       "      <td>&lt;NA&gt;</td>\n",
       "      <td>&lt;NA&gt;</td>\n",
       "      <td>lesión</td>\n",
       "    </tr>\n",
       "    <tr>\n",
       "      <th>3800</th>\n",
       "      <td>LC-2019-0293645</td>\n",
       "      <td>1</td>\n",
       "      <td>2019-05-11</td>\n",
       "      <td>2019</td>\n",
       "      <td>5</td>\n",
       "      <td>11</td>\n",
       "      <td>5</td>\n",
       "      <td>3.0</td>\n",
       "      <td>1905</td>\n",
       "      <td>&lt;NA&gt;</td>\n",
       "      <td>...</td>\n",
       "      <td>&lt;NA&gt;</td>\n",
       "      <td>7.0</td>\n",
       "      <td>-6.508984e+06</td>\n",
       "      <td>-4.114270e+06</td>\n",
       "      <td>-34.634118</td>\n",
       "      <td>-58.471196</td>\n",
       "      <td>SD-SD</td>\n",
       "      <td>&lt;NA&gt;</td>\n",
       "      <td>&lt;NA&gt;</td>\n",
       "      <td>lesión</td>\n",
       "    </tr>\n",
       "    <tr>\n",
       "      <th>2447</th>\n",
       "      <td>LC-2019-0197364</td>\n",
       "      <td>1</td>\n",
       "      <td>2019-03-30</td>\n",
       "      <td>2019</td>\n",
       "      <td>3</td>\n",
       "      <td>30</td>\n",
       "      <td>5</td>\n",
       "      <td>0.0</td>\n",
       "      <td>1903</td>\n",
       "      <td>&lt;NA&gt;</td>\n",
       "      <td>...</td>\n",
       "      <td>&lt;NA&gt;</td>\n",
       "      <td>5.0</td>\n",
       "      <td>-6.504273e+06</td>\n",
       "      <td>-4.111688e+06</td>\n",
       "      <td>-34.615032</td>\n",
       "      <td>-58.428880</td>\n",
       "      <td>SD-SD</td>\n",
       "      <td>&lt;NA&gt;</td>\n",
       "      <td>&lt;NA&gt;</td>\n",
       "      <td>lesión</td>\n",
       "    </tr>\n",
       "    <tr>\n",
       "      <th>6029</th>\n",
       "      <td>LC-2019-0449608</td>\n",
       "      <td>1</td>\n",
       "      <td>2019-07-20</td>\n",
       "      <td>2019</td>\n",
       "      <td>7</td>\n",
       "      <td>20</td>\n",
       "      <td>5</td>\n",
       "      <td>12.0</td>\n",
       "      <td>1907</td>\n",
       "      <td>&lt;NA&gt;</td>\n",
       "      <td>...</td>\n",
       "      <td>&lt;NA&gt;</td>\n",
       "      <td>12.0</td>\n",
       "      <td>-6.511456e+06</td>\n",
       "      <td>-4.105288e+06</td>\n",
       "      <td>-34.567708</td>\n",
       "      <td>-58.493407</td>\n",
       "      <td>SD-SD</td>\n",
       "      <td>&lt;NA&gt;</td>\n",
       "      <td>&lt;NA&gt;</td>\n",
       "      <td>lesión</td>\n",
       "    </tr>\n",
       "    <tr>\n",
       "      <th>1449</th>\n",
       "      <td>LC-2019-0123339</td>\n",
       "      <td>1</td>\n",
       "      <td>2019-02-26</td>\n",
       "      <td>2019</td>\n",
       "      <td>2</td>\n",
       "      <td>26</td>\n",
       "      <td>1</td>\n",
       "      <td>16.0</td>\n",
       "      <td>1902</td>\n",
       "      <td>&lt;NA&gt;</td>\n",
       "      <td>...</td>\n",
       "      <td>&lt;NA&gt;</td>\n",
       "      <td>3.0</td>\n",
       "      <td>-6.501585e+06</td>\n",
       "      <td>-4.111716e+06</td>\n",
       "      <td>-34.615241</td>\n",
       "      <td>-58.404734</td>\n",
       "      <td>SD-SD</td>\n",
       "      <td>&lt;NA&gt;</td>\n",
       "      <td>&lt;NA&gt;</td>\n",
       "      <td>lesión</td>\n",
       "    </tr>\n",
       "    <tr>\n",
       "      <th>16166</th>\n",
       "      <td>LC-2021-0069659</td>\n",
       "      <td>1</td>\n",
       "      <td>2021-02-14</td>\n",
       "      <td>2021</td>\n",
       "      <td>2</td>\n",
       "      <td>14</td>\n",
       "      <td>6</td>\n",
       "      <td>3.0</td>\n",
       "      <td>2102</td>\n",
       "      <td>SAN JUAN AV. y SAN JOSE</td>\n",
       "      <td>...</td>\n",
       "      <td>AVENIDA</td>\n",
       "      <td>1.0</td>\n",
       "      <td>-6.499481e+06</td>\n",
       "      <td>-4.112683e+06</td>\n",
       "      <td>-34.622390</td>\n",
       "      <td>-58.385833</td>\n",
       "      <td>CICLISTA-SD</td>\n",
       "      <td>CICLISTA</td>\n",
       "      <td>&lt;NA&gt;</td>\n",
       "      <td>lesión</td>\n",
       "    </tr>\n",
       "  </tbody>\n",
       "</table>\n",
       "<p>10 rows × 21 columns</p>\n",
       "</div>"
      ],
      "text/plain": [
       "                    id  n_victimas      fecha  aaaa  mm  dd  dia_semana    hh  \\\n",
       "15396  LC-2020-0638557           1 2020-12-01  2020  12   1           1  14.0   \n",
       "865    LC-2019-0077333           1 2019-02-06  2019   2   6           2   9.0   \n",
       "4321   LC-2019-0328307           1 2019-05-26  2019   5  26           6  20.0   \n",
       "5776   LC-2019-0430751           2 2019-07-12  2019   7  12           4  16.0   \n",
       "20931  LC-2021-0420152           1 2021-08-24  2021   8  24           1  19.0   \n",
       "3800   LC-2019-0293645           1 2019-05-11  2019   5  11           5   3.0   \n",
       "2447   LC-2019-0197364           1 2019-03-30  2019   3  30           5   0.0   \n",
       "6029   LC-2019-0449608           1 2019-07-20  2019   7  20           5  12.0   \n",
       "1449   LC-2019-0123339           1 2019-02-26  2019   2  26           1  16.0   \n",
       "16166  LC-2021-0069659           1 2021-02-14  2021   2  14           6   3.0   \n",
       "\n",
       "      period                               lugar_del_hecho  ... calle_tipo  \\\n",
       "15396   2012                 AVELLANEDA AV. y BAHIA BLANCA  ...    AVENIDA   \n",
       "865     1902                                          <NA>  ...       <NA>   \n",
       "4321    1905                                          <NA>  ...       <NA>   \n",
       "5776    1907                                          <NA>  ...       <NA>   \n",
       "20931   2108  SARANDI y REPUBLICA BOLIVARIANA DE VENEZUELA  ...      CALLE   \n",
       "3800    1905                                          <NA>  ...       <NA>   \n",
       "2447    1903                                          <NA>  ...       <NA>   \n",
       "6029    1907                                          <NA>  ...       <NA>   \n",
       "1449    1902                                          <NA>  ...       <NA>   \n",
       "16166   2102                       SAN JUAN AV. y SAN JOSE  ...    AVENIDA   \n",
       "\n",
       "      comuna         pos_x         pos_y    latitud   longitud  participantes  \\\n",
       "15396   10.0 -6.510221e+06 -4.113599e+06 -34.629157 -58.482311          SD-SD   \n",
       "865     12.0 -6.511447e+06 -4.102675e+06 -34.548370 -58.493326        AUTO-SD   \n",
       "4321    10.0 -6.510404e+06 -4.114086e+06 -34.632759 -58.483955        MOTO-SD   \n",
       "5776    12.0 -6.512646e+06 -4.108435e+06 -34.590980 -58.504092          SD-SD   \n",
       "20931    3.0 -6.500460e+06 -4.111703e+06 -34.615144 -58.394629          SD-SD   \n",
       "3800     7.0 -6.508984e+06 -4.114270e+06 -34.634118 -58.471196          SD-SD   \n",
       "2447     5.0 -6.504273e+06 -4.111688e+06 -34.615032 -58.428880          SD-SD   \n",
       "6029    12.0 -6.511456e+06 -4.105288e+06 -34.567708 -58.493407          SD-SD   \n",
       "1449     3.0 -6.501585e+06 -4.111716e+06 -34.615241 -58.404734          SD-SD   \n",
       "16166    1.0 -6.499481e+06 -4.112683e+06 -34.622390 -58.385833    CICLISTA-SD   \n",
       "\n",
       "        victima acusado evento_tipo  \n",
       "15396      <NA>    <NA>      lesión  \n",
       "865        AUTO    <NA>      lesión  \n",
       "4321       MOTO    <NA>      lesión  \n",
       "5776       <NA>    <NA>      lesión  \n",
       "20931      <NA>    <NA>      lesión  \n",
       "3800       <NA>    <NA>      lesión  \n",
       "2447       <NA>    <NA>      lesión  \n",
       "6029       <NA>    <NA>      lesión  \n",
       "1449       <NA>    <NA>      lesión  \n",
       "16166  CICLISTA    <NA>      lesión  \n",
       "\n",
       "[10 rows x 21 columns]"
      ]
     },
     "execution_count": 19,
     "metadata": {},
     "output_type": "execute_result"
    }
   ],
   "source": [
    "dfl[dfl['acusado'].isna()].sample(10)"
   ]
  },
  {
   "attachments": {},
   "cell_type": "markdown",
   "metadata": {},
   "source": [
    "Tratamiento de valores nulos\n",
    "\n",
    "A efectos del EDA aquellos campos que son necesarios y presentan valores nulos, son: \"comuna\", \"victima\" y \"acusado\". Del total de 23785 registros, los campos con valores nulos representan una gran cantidad.\n",
    "* Valores nulos del campo \"comuna\": dado que no tienen una dirección asociada, no resulta posible determinar la comuna; optaremos por conservar estos registros\n",
    "* Valores nulos de los campos \"acusado\" y \"victima\": dado que no es posible estimar estos valores y representan una gran cantidad de registros, optaremos por conservarlos"
   ]
  },
  {
   "cell_type": "code",
   "execution_count": 20,
   "metadata": {},
   "outputs": [],
   "source": [
    "# Exportqar dataset de eventos\n",
    "# eventos = pd.concat([dfh, dfl])\n",
    "# eventos.to_excel(\"eventos.xlsx\", index=False)"
   ]
  },
  {
   "attachments": {},
   "cell_type": "markdown",
   "metadata": {},
   "source": [
    "# Análisis de datos\n",
    "===================================================================================================================================="
   ]
  },
  {
   "attachments": {},
   "cell_type": "markdown",
   "metadata": {},
   "source": [
    "## Estadística Descriptiva\n",
    "--------------------------------------------------------------------------------------------------------------------------------------------------------------------------------"
   ]
  },
  {
   "attachments": {},
   "cell_type": "markdown",
   "metadata": {},
   "source": [
    "Para una primer aproximación al análisis de datos, veremos los promedios y la variabilidad anual sin entrar en mucho detalle debido a que más adelante veremos el comportamiento de las series de tiempo y el comportamiento geográfico."
   ]
  },
  {
   "cell_type": "code",
   "execution_count": 21,
   "metadata": {},
   "outputs": [
    {
     "data": {
      "text/html": [
       "<div>\n",
       "<style scoped>\n",
       "    .dataframe tbody tr th:only-of-type {\n",
       "        vertical-align: middle;\n",
       "    }\n",
       "\n",
       "    .dataframe tbody tr th {\n",
       "        vertical-align: top;\n",
       "    }\n",
       "\n",
       "    .dataframe thead th {\n",
       "        text-align: right;\n",
       "    }\n",
       "</style>\n",
       "<table border=\"1\" class=\"dataframe\">\n",
       "  <thead>\n",
       "    <tr style=\"text-align: right;\">\n",
       "      <th></th>\n",
       "      <th>aaaa</th>\n",
       "      <th>evento_tipo</th>\n",
       "      <th>n_victimas</th>\n",
       "    </tr>\n",
       "  </thead>\n",
       "  <tbody>\n",
       "    <tr>\n",
       "      <th>0</th>\n",
       "      <td>2016</td>\n",
       "      <td>muerte</td>\n",
       "      <td>144</td>\n",
       "    </tr>\n",
       "    <tr>\n",
       "      <th>1</th>\n",
       "      <td>2017</td>\n",
       "      <td>muerte</td>\n",
       "      <td>140</td>\n",
       "    </tr>\n",
       "    <tr>\n",
       "      <th>2</th>\n",
       "      <td>2018</td>\n",
       "      <td>muerte</td>\n",
       "      <td>149</td>\n",
       "    </tr>\n",
       "    <tr>\n",
       "      <th>3</th>\n",
       "      <td>2019</td>\n",
       "      <td>lesión</td>\n",
       "      <td>11792</td>\n",
       "    </tr>\n",
       "    <tr>\n",
       "      <th>4</th>\n",
       "      <td>2019</td>\n",
       "      <td>muerte</td>\n",
       "      <td>104</td>\n",
       "    </tr>\n",
       "    <tr>\n",
       "      <th>5</th>\n",
       "      <td>2020</td>\n",
       "      <td>lesión</td>\n",
       "      <td>6855</td>\n",
       "    </tr>\n",
       "    <tr>\n",
       "      <th>6</th>\n",
       "      <td>2020</td>\n",
       "      <td>muerte</td>\n",
       "      <td>81</td>\n",
       "    </tr>\n",
       "    <tr>\n",
       "      <th>7</th>\n",
       "      <td>2021</td>\n",
       "      <td>lesión</td>\n",
       "      <td>8957</td>\n",
       "    </tr>\n",
       "    <tr>\n",
       "      <th>8</th>\n",
       "      <td>2021</td>\n",
       "      <td>muerte</td>\n",
       "      <td>97</td>\n",
       "    </tr>\n",
       "  </tbody>\n",
       "</table>\n",
       "</div>"
      ],
      "text/plain": [
       "   aaaa evento_tipo  n_victimas\n",
       "0  2016      muerte         144\n",
       "1  2017      muerte         140\n",
       "2  2018      muerte         149\n",
       "3  2019      lesión       11792\n",
       "4  2019      muerte         104\n",
       "5  2020      lesión        6855\n",
       "6  2020      muerte          81\n",
       "7  2021      lesión        8957\n",
       "8  2021      muerte          97"
      ]
     },
     "execution_count": 21,
     "metadata": {},
     "output_type": "execute_result"
    }
   ],
   "source": [
    "# Armado de un dataset conjunto de eventos\n",
    "dfhl = pd.concat([dfh, dfl])\n",
    "\n",
    "# Agrupar por año y tipo de evento el total de víctimas\n",
    "df_period = dfhl.groupby(['aaaa', 'evento_tipo'])[['n_victimas']].sum().reset_index()\n",
    "df_period"
   ]
  },
  {
   "cell_type": "code",
   "execution_count": 22,
   "metadata": {},
   "outputs": [
    {
     "data": {
      "image/png": "[encoded data removed]",
      "text/plain": [
       "<Figure size 1400x100 with 1 Axes>"
      ]
     },
     "metadata": {},
     "output_type": "display_data"
    },
    {
     "data": {
      "text/html": [
       "<div>\n",
       "<style scoped>\n",
       "    .dataframe tbody tr th:only-of-type {\n",
       "        vertical-align: middle;\n",
       "    }\n",
       "\n",
       "    .dataframe tbody tr th {\n",
       "        vertical-align: top;\n",
       "    }\n",
       "\n",
       "    .dataframe thead th {\n",
       "        text-align: right;\n",
       "    }\n",
       "</style>\n",
       "<table border=\"1\" class=\"dataframe\">\n",
       "  <thead>\n",
       "    <tr style=\"text-align: right;\">\n",
       "      <th></th>\n",
       "      <th>aaaa</th>\n",
       "      <th>n_victimas</th>\n",
       "    </tr>\n",
       "  </thead>\n",
       "  <tbody>\n",
       "    <tr>\n",
       "      <th>count</th>\n",
       "      <td>6.000000</td>\n",
       "      <td>6.000000</td>\n",
       "    </tr>\n",
       "    <tr>\n",
       "      <th>mean</th>\n",
       "      <td>2018.500000</td>\n",
       "      <td>119.166667</td>\n",
       "    </tr>\n",
       "    <tr>\n",
       "      <th>std</th>\n",
       "      <td>1.870829</td>\n",
       "      <td>28.701336</td>\n",
       "    </tr>\n",
       "    <tr>\n",
       "      <th>min</th>\n",
       "      <td>2016.000000</td>\n",
       "      <td>81.000000</td>\n",
       "    </tr>\n",
       "    <tr>\n",
       "      <th>25%</th>\n",
       "      <td>2017.250000</td>\n",
       "      <td>98.750000</td>\n",
       "    </tr>\n",
       "    <tr>\n",
       "      <th>50%</th>\n",
       "      <td>2018.500000</td>\n",
       "      <td>122.000000</td>\n",
       "    </tr>\n",
       "    <tr>\n",
       "      <th>75%</th>\n",
       "      <td>2019.750000</td>\n",
       "      <td>143.000000</td>\n",
       "    </tr>\n",
       "    <tr>\n",
       "      <th>max</th>\n",
       "      <td>2021.000000</td>\n",
       "      <td>149.000000</td>\n",
       "    </tr>\n",
       "  </tbody>\n",
       "</table>\n",
       "</div>"
      ],
      "text/plain": [
       "              aaaa  n_victimas\n",
       "count     6.000000    6.000000\n",
       "mean   2018.500000  119.166667\n",
       "std       1.870829   28.701336\n",
       "min    2016.000000   81.000000\n",
       "25%    2017.250000   98.750000\n",
       "50%    2018.500000  122.000000\n",
       "75%    2019.750000  143.000000\n",
       "max    2021.000000  149.000000"
      ]
     },
     "execution_count": 22,
     "metadata": {},
     "output_type": "execute_result"
    }
   ],
   "source": [
    "plt.figure(figsize=(14, 1)) \n",
    "sns.boxplot(data=df_period[df_period['evento_tipo']=='muerte'], x='n_victimas')\n",
    "plt.title(\"Variabilidad de víctimas mortales por año\")\n",
    "plt.xlabel(\"Número de víctimas\")\n",
    "plt.show()\n",
    "df_period[df_period['evento_tipo']=='muerte'].describe()"
   ]
  },
  {
   "cell_type": "code",
   "execution_count": 23,
   "metadata": {},
   "outputs": [
    {
     "data": {
      "image/png": "[encoded data removed]",
      "text/plain": [
       "<Figure size 1400x400 with 1 Axes>"
      ]
     },
     "metadata": {},
     "output_type": "display_data"
    }
   ],
   "source": [
    "# Variabilidad del número de víctimas\n",
    "plt.figure(figsize=(14, 4))  \n",
    "sns.histplot(data=df_period[df_period['evento_tipo']=='muerte'], x='n_victimas', bins=3)\n",
    "plt.title(\"Distribución de muertes por año\")\n",
    "plt.xlabel(\"Número de víctimas\")\n",
    "plt.ylabel(\"Frecuencia\")\n",
    "plt.show()"
   ]
  },
  {
   "attachments": {},
   "cell_type": "markdown",
   "metadata": {},
   "source": [
    "Los registros históricos muestran, para las víctimas mortales:\n",
    "* Promedio anual de 119 muertes\n",
    "* Desvío estándar de 28.7 muertes\n",
    "* Mediana de 122 muertes\n",
    "* El histograma muestra que hay una variabilidad relativamente alta, ya que casi con la misma probabilidad pueden darse 100 muertes o 140"
   ]
  },
  {
   "cell_type": "code",
   "execution_count": 24,
   "metadata": {},
   "outputs": [
    {
     "data": {
      "image/png": "[encoded data removed]",
      "text/plain": [
       "<Figure size 1400x100 with 1 Axes>"
      ]
     },
     "metadata": {},
     "output_type": "display_data"
    },
    {
     "data": {
      "text/html": [
       "<div>\n",
       "<style scoped>\n",
       "    .dataframe tbody tr th:only-of-type {\n",
       "        vertical-align: middle;\n",
       "    }\n",
       "\n",
       "    .dataframe tbody tr th {\n",
       "        vertical-align: top;\n",
       "    }\n",
       "\n",
       "    .dataframe thead th {\n",
       "        text-align: right;\n",
       "    }\n",
       "</style>\n",
       "<table border=\"1\" class=\"dataframe\">\n",
       "  <thead>\n",
       "    <tr style=\"text-align: right;\">\n",
       "      <th></th>\n",
       "      <th>aaaa</th>\n",
       "      <th>n_victimas</th>\n",
       "    </tr>\n",
       "  </thead>\n",
       "  <tbody>\n",
       "    <tr>\n",
       "      <th>count</th>\n",
       "      <td>3.0</td>\n",
       "      <td>3.000000</td>\n",
       "    </tr>\n",
       "    <tr>\n",
       "      <th>mean</th>\n",
       "      <td>2020.0</td>\n",
       "      <td>9201.333333</td>\n",
       "    </tr>\n",
       "    <tr>\n",
       "      <th>std</th>\n",
       "      <td>1.0</td>\n",
       "      <td>2477.552489</td>\n",
       "    </tr>\n",
       "    <tr>\n",
       "      <th>min</th>\n",
       "      <td>2019.0</td>\n",
       "      <td>6855.000000</td>\n",
       "    </tr>\n",
       "    <tr>\n",
       "      <th>25%</th>\n",
       "      <td>2019.5</td>\n",
       "      <td>7906.000000</td>\n",
       "    </tr>\n",
       "    <tr>\n",
       "      <th>50%</th>\n",
       "      <td>2020.0</td>\n",
       "      <td>8957.000000</td>\n",
       "    </tr>\n",
       "    <tr>\n",
       "      <th>75%</th>\n",
       "      <td>2020.5</td>\n",
       "      <td>10374.500000</td>\n",
       "    </tr>\n",
       "    <tr>\n",
       "      <th>max</th>\n",
       "      <td>2021.0</td>\n",
       "      <td>11792.000000</td>\n",
       "    </tr>\n",
       "  </tbody>\n",
       "</table>\n",
       "</div>"
      ],
      "text/plain": [
       "         aaaa    n_victimas\n",
       "count     3.0      3.000000\n",
       "mean   2020.0   9201.333333\n",
       "std       1.0   2477.552489\n",
       "min    2019.0   6855.000000\n",
       "25%    2019.5   7906.000000\n",
       "50%    2020.0   8957.000000\n",
       "75%    2020.5  10374.500000\n",
       "max    2021.0  11792.000000"
      ]
     },
     "execution_count": 24,
     "metadata": {},
     "output_type": "execute_result"
    }
   ],
   "source": [
    "plt.figure(figsize=(14, 1)) \n",
    "sns.boxplot(data=df_period[df_period['evento_tipo']=='lesión'], x='n_victimas', color = 'orange')\n",
    "plt.title(\"Variabilidad de víctimas lesionadas por año\")\n",
    "plt.xlabel(\"Número de víctimas\")\n",
    "plt.show()\n",
    "df_period[df_period['evento_tipo']=='lesión'].describe()"
   ]
  },
  {
   "cell_type": "code",
   "execution_count": 25,
   "metadata": {},
   "outputs": [
    {
     "data": {
      "image/png": "[encoded data removed]",
      "text/plain": [
       "<Figure size 1400x400 with 1 Axes>"
      ]
     },
     "metadata": {},
     "output_type": "display_data"
    }
   ],
   "source": [
    "# Variabilidad del número de víctimas\n",
    "plt.figure(figsize=(14, 4))  \n",
    "sns.histplot(data=df_period[df_period['evento_tipo']=='lesión'], x='n_victimas',bins=30, color = 'orange')\n",
    "plt.title(\"Distribución de lesiones por año\")\n",
    "plt.xlabel(\"Número de víctimas\")\n",
    "plt.ylabel(\"Frecuencia\")\n",
    "plt.show()"
   ]
  },
  {
   "attachments": {},
   "cell_type": "markdown",
   "metadata": {},
   "source": [
    "Los registros históricos muestran, para las víctimas lesionadas:\n",
    "* Promedio anual de 9201 lesiones\n",
    "* Desvío estándar de 2477 lesiones, lo cual es muyu alto en relación al valor promedio\n",
    "* Mediana de 8957 lesiones\n",
    "* El histograma muestra que hay una variabilidad grande, ya que casi con la misma probabilidad pueden darse 8000, 9000, ó 1000 lesiones en un año"
   ]
  },
  {
   "attachments": {},
   "cell_type": "markdown",
   "metadata": {},
   "source": [
    "## Serie de tiempo, tendencias y estacionalidad\n",
    "--------------------------------------------------------------------------------------------------------------------------------------------------------------------------------------------------------"
   ]
  },
  {
   "attachments": {},
   "cell_type": "markdown",
   "metadata": {},
   "source": [
    "### Serie de tiempo por período mensual"
   ]
  },
  {
   "cell_type": "code",
   "execution_count": 26,
   "metadata": {},
   "outputs": [
    {
     "data": {
      "image/png": "[encoded data removed]",
      "text/plain": [
       "<Figure size 1400x300 with 2 Axes>"
      ]
     },
     "metadata": {},
     "output_type": "display_data"
    }
   ],
   "source": [
    "# Datasets que agrupan por período la cantidad de eventos ocurridos y la suma de víctimas para cada tipo de evento\n",
    "dfh_period = dfh.groupby(['aaaa', 'mm', 'period', 'evento_tipo']).agg({'id':'count', 'n_victimas':'sum'}).reset_index()\n",
    "dfh_period = dfh_period.rename(columns={'id':'n_eventos'})\n",
    "\n",
    "dfl_period = dfl.groupby(['aaaa', 'mm', 'period', 'evento_tipo']).agg({'id':'count', 'n_victimas':'sum'}).reset_index()\n",
    "dfl_period = dfl_period.rename(columns={'id':'n_eventos'})\n",
    "\n",
    "plt.figure(figsize=(14, 3))\n",
    "sns.lineplot(data=dfh_period, x='period', y='n_victimas', label='Homicidios', color='orange')\n",
    "ax2 = plt.gca().twinx()         # Crear un segundo eje Y para las lesiones\n",
    "sns.lineplot(data=dfl_period, x='period', y='n_victimas', label='Lesiones', ax=ax2)\n",
    "\n",
    "plt.title('Número de víctimas de homicidios y lesiones por periodo')\n",
    "plt.ylabel('Número de Víctimas - Homicidios')\n",
    "plt.xlabel('Período (AAMM)')\n",
    "ax2.set_ylabel('Número de Víctimas - Lesiones')\n",
    "ax2.xaxis.set_major_locator(MultipleLocator(base=3))\n",
    "plt.legend(loc='upper left')\n",
    "ax2.legend(loc='upper left')\n",
    "\n",
    "plt.show()"
   ]
  },
  {
   "attachments": {},
   "cell_type": "markdown",
   "metadata": {},
   "source": [
    "El gráfico muestra la cantidad de víctimas lesionadas o mortales para cada serie de datos y para cada período o mes (indicado por el formato AAMM).\n",
    "* Los eventos de lesiones muestran datos desde 2019, denotando una tendencia a disminuir, pero aumentando drásticamente hacia fines de 2010\n",
    "* Los eventos de accidentes mortales muestran datos desde 2016, en donde también se observa una tendencia a la baja y un súbito aumento hacia principios de 2011\n",
    "* La disminución generalizada para ambas series se dá en el contexto del covid, en lo que se aplicó una cuarentena que no permitía la libre circulación, con lo cual es lógico que se obtenga este resultado "
   ]
  },
  {
   "attachments": {},
   "cell_type": "markdown",
   "metadata": {},
   "source": [
    "### Tendencias anuales"
   ]
  },
  {
   "cell_type": "code",
   "execution_count": 27,
   "metadata": {},
   "outputs": [
    {
     "data": {
      "text/plain": [
       "count      36.000000\n",
       "mean      766.777778\n",
       "std       268.385449\n",
       "min       211.000000\n",
       "25%       560.750000\n",
       "50%       780.500000\n",
       "75%       999.250000\n",
       "max      1236.000000\n",
       "Name: n_victimas, dtype: float64"
      ]
     },
     "execution_count": 27,
     "metadata": {},
     "output_type": "execute_result"
    },
    {
     "data": {
      "image/png": "[encoded data removed]",
      "text/plain": [
       "<Figure size 1400x400 with 1 Axes>"
      ]
     },
     "metadata": {},
     "output_type": "display_data"
    }
   ],
   "source": [
    "plt.figure(figsize=(14, 4))\n",
    "sns.barplot(data=dfl_period, x='aaaa', y='n_victimas')\n",
    "\n",
    "plt.title(\"Promedio mensual por año de víctimas lesionadas\")\n",
    "plt.xlabel('Año')\n",
    "plt.ylabel('Número de víctimas')\n",
    "\n",
    "dfl_period['n_victimas'].describe()"
   ]
  },
  {
   "cell_type": "code",
   "execution_count": 28,
   "metadata": {},
   "outputs": [
    {
     "data": {
      "text/plain": [
       "count    72.000000\n",
       "mean      9.930556\n",
       "std       3.835808\n",
       "min       2.000000\n",
       "25%       8.000000\n",
       "50%       9.000000\n",
       "75%      12.000000\n",
       "max      22.000000\n",
       "Name: n_victimas, dtype: float64"
      ]
     },
     "execution_count": 28,
     "metadata": {},
     "output_type": "execute_result"
    },
    {
     "data": {
      "image/png": "[encoded data removed]",
      "text/plain": [
       "<Figure size 1400x400 with 1 Axes>"
      ]
     },
     "metadata": {},
     "output_type": "display_data"
    }
   ],
   "source": [
    "plt.figure(figsize=(14, 4))\n",
    "sns.barplot(data=dfh_period, x='aaaa', y='n_victimas',color='orange')\n",
    "plt.title(\"Promedio mensual por año de víctimas mortales\")\n",
    "plt.xlabel('Año')\n",
    "plt.ylabel('Número de víctimas')\n",
    "\n",
    "dfh_period['n_victimas'].describe()"
   ]
  },
  {
   "attachments": {},
   "cell_type": "markdown",
   "metadata": {},
   "source": [
    "Los últimos dos gráficos muestran para cada tipo de evento el promedio mensual de vícitimas, agrupado por año. Se puede establecer las mismas conclusiones obtenidas más arriba:\n",
    "* El promedio mensual de víctimas lesionadas puede estar entre 600-800, de acuerdo a los últimos dos años\n",
    "* Las víctimas lesionadas muestran una declinación en el segundo año, y un aumento en el último año\n",
    "* el promedio mensual de víctimas mortales pueede estar entre 6-8, de acuerdo a los últimos tres años\n",
    "* Las víctimas mortales muestran una tendencia a la baja, denotando un aumento en el año 2021"
   ]
  },
  {
   "cell_type": "markdown",
   "metadata": {},
   "source": []
  },
  {
   "attachments": {},
   "cell_type": "markdown",
   "metadata": {},
   "source": [
    "### Estacionalidad"
   ]
  },
  {
   "attachments": {},
   "cell_type": "markdown",
   "metadata": {},
   "source": [
    "Evaluaremos la estacionalidad mensual, por día de semana y por horario del día, pero esta vez contabilizando los eventos sin diferenciar por su consecuecnia (lesión o muerte)."
   ]
  },
  {
   "cell_type": "code",
   "execution_count": 29,
   "metadata": {},
   "outputs": [
    {
     "data": {
      "image/png": "[encoded data removed]",
      "text/plain": [
       "<Figure size 1400x400 with 1 Axes>"
      ]
     },
     "metadata": {},
     "output_type": "display_data"
    }
   ],
   "source": [
    "# Estacionalidad mensual\n",
    "dfhl_month = dfhl.groupby(['mm']).agg({'id':'count', 'n_victimas':'sum'}).reset_index()\n",
    "dfhl_month = dfhl_month.rename(columns={'id':'n_eventos'})\n",
    "\n",
    "plt.figure(figsize=(14, 4))\n",
    "sns.barplot(data=dfhl_month, x='mm', y='n_eventos')\n",
    "plt.title(\"Registro histórico de eventos, agrupados por mes\")\n",
    "\n",
    "plt.show()"
   ]
  },
  {
   "attachments": {},
   "cell_type": "markdown",
   "metadata": {},
   "source": [
    "* La mayor cantidad de eventos se han registrado entre Octubre-Marzo\n",
    "* Abril, Mayo y Junio son los meses con menor cantidad de eventos"
   ]
  },
  {
   "cell_type": "code",
   "execution_count": 30,
   "metadata": {},
   "outputs": [
    {
     "data": {
      "image/png": "[encoded data removed]",
      "text/plain": [
       "<Figure size 1400x400 with 1 Axes>"
      ]
     },
     "metadata": {},
     "output_type": "display_data"
    }
   ],
   "source": [
    "# Estacionalidad en el día de semana\n",
    "dfhl_diasemana = dfhl.groupby(['dia_semana']).agg({'id':'count', 'n_victimas':'sum'}).reset_index()\n",
    "dfhl_diasemana = dfhl_diasemana.rename(columns={'id':'n_eventos'})\n",
    "\n",
    "plt.figure(figsize=(14, 4))\n",
    "sns.barplot(data=dfhl_diasemana, x='dia_semana', y='n_eventos')\n",
    "plt.title(\"Registro histórico de eventos, agrupados por día de semana\")\n",
    "plt.xlabel('Mes')\n",
    "plt.ylabel('Número de Eventos')\n",
    "plt.show()"
   ]
  },
  {
   "attachments": {},
   "cell_type": "markdown",
   "metadata": {},
   "source": [
    "* Los días de semana (días 5 y 6) son los de menor actividad\n",
    "* Obsérvese la tendencia a aumentar desde los días Lunea hacia los días Viernes"
   ]
  },
  {
   "cell_type": "code",
   "execution_count": 31,
   "metadata": {},
   "outputs": [
    {
     "data": {
      "image/png": "[encoded data removed]",
      "text/plain": [
       "<Figure size 1400x400 with 1 Axes>"
      ]
     },
     "metadata": {},
     "output_type": "display_data"
    }
   ],
   "source": [
    "# Estacionalidad horaria\n",
    "dfhl_horario = dfhl.groupby(['hh']).agg({'id':'count', 'n_victimas':'sum'}).reset_index()\n",
    "dfhl_horario = dfhl_horario.rename(columns={'id':'n_eventos'})\n",
    "\n",
    "plt.figure(figsize=(14, 4))\n",
    "sns.barplot(data=dfhl_horario, x='hh', y='n_eventos')\n",
    "plt.title(\"Registro histórico de eventos, agrupados por horario\")\n",
    "plt.xlabel('Mes')\n",
    "plt.ylabel('Número de Eventos')\n",
    "plt.show()"
   ]
  },
  {
   "attachments": {},
   "cell_type": "markdown",
   "metadata": {},
   "source": [
    "* Durante la noche se registran menos eventos, por supuesto debido a la menor circulación vehicular\n",
    "* Los horarios pico se dan entre el mediodía y las 6 pm, denotando los máximos entre las 4 pm y las 5 pm"
   ]
  },
  {
   "attachments": {},
   "cell_type": "markdown",
   "metadata": {},
   "source": [
    "## Relación entre tipos de eventos\n",
    "--------------------------------------------------------------------------------------------------------------------------------------------------------------------------------------------------------"
   ]
  },
  {
   "cell_type": "code",
   "execution_count": 32,
   "metadata": {},
   "outputs": [
    {
     "data": {
      "image/png": "[encoded data removed]",
      "text/plain": [
       "<Figure size 1400x600 with 1 Axes>"
      ]
     },
     "metadata": {},
     "output_type": "display_data"
    }
   ],
   "source": [
    "# Creación de dataset para contabilizar la cantidad de eventos por período\n",
    "dfpivot = pd.pivot_table(dfhl,  index=['aaaa', 'period'], columns='evento_tipo', values='id', aggfunc='count', fill_value=None, margins=False, dropna=True, margins_name='All', observed=False).reset_index()\n",
    "\n",
    "# Creación de gráfico de dispersión\n",
    "plt.figure(figsize=(14, 6))\n",
    "palette = sns.color_palette(\"tab10\", n_colors=6)\n",
    "sns.scatterplot(data=dfpivot, x='lesión', y='muerte', hue='aaaa', palette=palette, s=100)  # Ajustar el tamaño de los puntos\n",
    "sns.regplot(data=dfpivot, x='lesión', y='muerte', scatter=False, line_kws={\"color\": \"red\"})\n",
    "\n",
    "correlation_matrix = dfpivot[['lesión', 'muerte']].corr()\n",
    "r_squared = correlation_matrix.iloc[0, 1] ** 2\n",
    "\n",
    "plt.title(f'Gráfico de dispersión: Lesión vs Muerte (R² = {r_squared:.2f})')\n",
    "plt.xlabel('Lesión')\n",
    "plt.ylabel('Muerte')\n",
    "plt.grid(True)\n",
    "plt.show()"
   ]
  },
  {
   "attachments": {},
   "cell_type": "markdown",
   "metadata": {},
   "source": [
    "El gráfico muestra la dispersión de la relación entre los eventos con lesiones y los eventos mortales, agrupados en una serie por períodos. \n",
    "\n",
    "* Si bien el grado de ajuste no es muy alto (15%), se nota una tendencia de correlación positiva, lo que es esperable. Es decir, habrán más muertes en tanto hayan más lesiones\n",
    "* Sin embargo, al ser una correlación positiva no muy abrupta, una mayor cantidad de muertes no necesariamente es resultado de una mayor cantidad de eventos\n",
    "* Tanto 2019 como 2021 son años muy dispersos, sin embargo el 2020 nuevamente muestra no sólo menores lesiones sino menor cantidad de muertes\n",
    "* Un razón muy posible por la que el año 2020 muestre una disminución, es debido a la aplicación de una cuarentena civil durante el brote del covid19"
   ]
  },
  {
   "attachments": {},
   "cell_type": "markdown",
   "metadata": {},
   "source": [
    "## Localizaciones\n",
    "--------------------------------------------------------------------------------------------------------------------------------------------------------------------------------------------------------"
   ]
  },
  {
   "attachments": {},
   "cell_type": "markdown",
   "metadata": {},
   "source": [
    "Analizaremos cuáles son las comunas con mayor cantidad de eventos registrados. Veremos sus cantidades absolutas, promedios mensuales y varaibilidad."
   ]
  },
  {
   "cell_type": "code",
   "execution_count": 33,
   "metadata": {},
   "outputs": [
    {
     "data": {
      "image/png": "[encoded data removed]",
      "text/plain": [
       "<Figure size 1000x400 with 1 Axes>"
      ]
     },
     "metadata": {},
     "output_type": "display_data"
    }
   ],
   "source": [
    "# Cantidad total de víctimas por comuna\n",
    "df_comuna = dfhl.groupby(['comuna', 'evento_tipo'])[['n_victimas']].sum().reset_index()\n",
    "df_comuna['comuna'] = df_comuna['comuna'].astype('category')\n",
    "\n",
    "plt.figure(figsize=(10, 4)) \n",
    "sns.barplot(data=df_comuna, y='comuna', x='n_victimas', hue='evento_tipo', dodge=False)\n",
    "plt.title(\"Cantidad absoluta de víctimas por comuna\")\n",
    "plt.xlabel(\"Número de víctimas\")\n",
    "plt.ylabel(\"Comuna\")\n",
    "plt.show()"
   ]
  },
  {
   "attachments": {},
   "cell_type": "markdown",
   "metadata": {},
   "source": [
    "El gráfico muestra la cantidad total registrada de eventos diferenciados por lesión o muerte, agrupados por comuna.\n",
    "* La comuna nro 1 es la que más casos registra\n",
    "* Le siguen las comunas 15, 9, y 4\n",
    "* Las comunas 2 y 6 son las de menor actividad\n",
    "* Resulta condescendiente que las comunas con mayor cantidad de eventos, también presenten "
   ]
  },
  {
   "cell_type": "code",
   "execution_count": 34,
   "metadata": {},
   "outputs": [
    {
     "data": {
      "image/png": "[encoded data removed]",
      "text/plain": [
       "<Figure size 1000x400 with 1 Axes>"
      ]
     },
     "metadata": {},
     "output_type": "display_data"
    }
   ],
   "source": [
    "# Promedio mensual de víctimas por comuna\n",
    "df_period_comuna = dfhl.groupby(['aaaa', 'period', 'comuna', 'evento_tipo'])[['n_victimas']].sum().reset_index()\n",
    "df_period_comuna = df_period_comuna.sort_values(by='n_victimas', ascending=True)\n",
    "df_period_comuna['comuna'] = df_period_comuna['comuna'].astype('category')\n",
    "df_period_comuna\n",
    "\n",
    "plt.figure(figsize=(10, 4)) \n",
    "sns.barplot(data=df_period_comuna, y='comuna', x='n_victimas', errorbar=None)\n",
    "plt.title(\"Promedio mensual de víctimas por comuna\")\n",
    "plt.xlabel(\"Número de víctimas\")\n",
    "plt.ylabel(\"Comuna\")\n",
    "plt.show()"
   ]
  },
  {
   "attachments": {},
   "cell_type": "markdown",
   "metadata": {},
   "source": [
    "Los promedios mensuales por comunas no necesariamente dan la misma información que las cantidades absolutas.\n",
    "* Las comunas con mayores promedios mensuales son 1, 15 y 14\n",
    "* Cuando una comuna tiene un promedio menor que otra, significa que a lo largo del tiempo, su cantidad de eventos ha disminuido, lo que concluye en una mejora del indicador. Ejemplo:\n",
    "    * La comuna 9 tiene un valor total mayor a la comuna 14\n",
    "    * La comuna 9 tiene un promedio mensual menor que la comuna 14\n",
    "    * Significa que la comnuna 9 ha mejorado a lo largo del tiempo con respecto a la comuna 14"
   ]
  },
  {
   "cell_type": "code",
   "execution_count": 35,
   "metadata": {},
   "outputs": [
    {
     "data": {
      "image/png": "[encoded data removed]",
      "text/plain": [
       "<Figure size 1000x400 with 1 Axes>"
      ]
     },
     "metadata": {},
     "output_type": "display_data"
    }
   ],
   "source": [
    "# Variabilidad del promedio mensual de víctimas por comuna\n",
    "plt.figure(figsize=(10, 4))  \n",
    "sns.boxplot(data=df_period_comuna, y='comuna', x='n_victimas')\n",
    "plt.title(\"Promedio mensual de víctimas por comuna \")\n",
    "plt.xlabel(\"Número de víctimas\")\n",
    "plt.ylabel(\"Comuna\")\n",
    "plt.show()"
   ]
  },
  {
   "attachments": {},
   "cell_type": "markdown",
   "metadata": {},
   "source": [
    "Los boxplot permiten visualizar parte del comportamiento variable de cada comuna, exponiendo mmínimos, máximos y mediana, principalmente.\n",
    "* Las comunas 1, 15 y 4 presentan la mayor variabilidad\n",
    "* No se observan valores similares de mediana entre comunas, lo que indica también la alta ariabilidad entre ellas. Es decir, no se ven patrones de comportamiento similares entre comunas"
   ]
  },
  {
   "cell_type": "code",
   "execution_count": 36,
   "metadata": {},
   "outputs": [
    {
     "data": {
      "image/png": "[encoded data removed]",
      "text/plain": [
       "<Figure size 1400x800 with 2 Axes>"
      ]
     },
     "metadata": {},
     "output_type": "display_data"
    }
   ],
   "source": [
    "heat_pivot = df_period_comuna[df_period_comuna['aaaa'] >= 2019]\n",
    "heat_pivot = heat_pivot.pivot_table(index='comuna', columns='period', values='n_victimas', aggfunc='sum')\n",
    "\n",
    "plt.figure(figsize=(14, 8))\n",
    "sns.heatmap(heat_pivot, cmap='YlGnBu')\n",
    "plt.title('Evolución de víctimas por comuna y periodo')\n",
    "plt.xlabel('Periodo')\n",
    "plt.ylabel('Comuna')\n",
    "plt.show()\n"
   ]
  },
  {
   "attachments": {},
   "cell_type": "markdown",
   "metadata": {},
   "source": [
    "El mapa de calor permite la evolución de la cantidad de víctimas registradas por comuna y por período, en eswta caso filtrando desde 2019.\n",
    "* Entre Abr 2020 - Sep 2020 se observan pocos casos en todas las comunas. En particular, esto ha sucedido debido a la cuarentena del covid\n",
    "* Las comunas 1 y 15 son las que históricamente más casos registran, pero la diferencia es que la comuna 15 ha ido disminuyendo sus víctimas"
   ]
  },
  {
   "cell_type": "code",
   "execution_count": 37,
   "metadata": {},
   "outputs": [
    {
     "data": {
      "image/png": "[encoded data removed]",
      "text/plain": [
       "<Figure size 1400x600 with 2 Axes>"
      ]
     },
     "metadata": {},
     "output_type": "display_data"
    }
   ],
   "source": [
    "# Gráfico de Pareto\n",
    "comunas_pareto = dfhl.groupby('comuna')['n_victimas'].sum().reset_index()\n",
    "comunas_pareto = comunas_pareto.sort_values(by='n_victimas', ascending=False)\n",
    "comunas_pareto['cum_victimas'] = comunas_pareto['n_victimas'].cumsum()\n",
    "comunas_pareto['cumperc_victimas'] = (comunas_pareto['n_victimas'].cumsum() / comunas_pareto['n_victimas'].sum()).round(2) * 100\n",
    "\n",
    "comunas_pareto['comuna'] = comunas_pareto['comuna'].astype(str) # Convertir el campo 'comuna' en una variable categórica\n",
    "comunas_pareto = comunas_pareto.sort_values(by='n_victimas', ascending=False)\n",
    "\n",
    "# Gráfico de Pareto\n",
    "fig, ax1 = plt.subplots(figsize=(14, 6))\n",
    "ax1.bar(comunas_pareto['comuna'], comunas_pareto['n_victimas'], color='lightblue')\n",
    "ax1.set_xlabel('Comuna')\n",
    "ax1.set_ylabel('Número de víctimas')\n",
    "ax1.tick_params('y')\n",
    "\n",
    "\n",
    "ax2 = ax1.twinx() # Eje Y secundario (porcentaje acumulado de víctimas)\n",
    "ax2.plot(comunas_pareto['comuna'], comunas_pareto['cumperc_victimas'], color='r', marker='o', linestyle='-')\n",
    "ax2.set_ylabel('Porcentaje acumulado de víctimas (%)', color='r')\n",
    "ax2.tick_params('y', colors='r')\n",
    "\n",
    "for i, perc in enumerate(comunas_pareto['cumperc_victimas']):\n",
    "    ax2.annotate(f'{perc:.1f}%', (comunas_pareto['comuna'].iloc[i], perc), \n",
    "                 textcoords=\"offset points\", xytext=(0,10), ha='center', fontsize=8)\n",
    "    \n",
    "plt.title('Gráfico de Pareto: Número de víctimas por comuna')\n",
    "plt.show()\n"
   ]
  },
  {
   "attachments": {},
   "cell_type": "markdown",
   "metadata": {},
   "source": [
    "El gráfico de Pareto es muy útil pues nos permite visualizar no sólo las comunas con mayor actividad, sino también brindarles un peso relativo a la cantidad total de eventos registrados. \n",
    "\n",
    "Este gráfico muestra el total de víctimas ya sea por lesión o mortales, agrupado por comuna y ordenado en forma descendente según la suma de víctimas de cada comuna. En este caso no se cumple la regla del 80/20, pero aún así se puede determinar el peso relevante para cada comuna, lo que resulta útil a la hora de aplicar prioridades en las mejoras de infraestructura vehicular.\n",
    "* Del total de 15 comunas, las 2 primeras toman aproximadamente el 20% de los eventos\n",
    "* Del total de 15 comunas, las 6 primeras toman aproximadamente el 50% de los eventos\n",
    "* Del total de 15 comunas, las 11 primeras toman aproximadamente el 80% de los eventos"
   ]
  },
  {
   "attachments": {},
   "cell_type": "markdown",
   "metadata": {},
   "source": [
    "## Tipos de víctimas\n",
    "--------------------------------------------------------------------------------------------------------------------------------------------------------------------------------------------------------"
   ]
  },
  {
   "attachments": {},
   "cell_type": "markdown",
   "metadata": {},
   "source": [
    "Veremos en mayor detalle la relación acusado-víctima de los eventos, en función de conocer cuáles son los participantes que mayormente causan los accidentes, así como conocer cuáles son las víctimas que mayor aparecen."
   ]
  },
  {
   "cell_type": "code",
   "execution_count": 38,
   "metadata": {},
   "outputs": [
    {
     "data": {
      "image/png": "[encoded data removed]",
      "text/plain": [
       "<Figure size 1400x600 with 2 Axes>"
      ]
     },
     "metadata": {},
     "output_type": "display_data"
    }
   ],
   "source": [
    "# Dataset acusado-victima\n",
    "df_av = dfhl[['acusado', 'victima', 'evento_tipo', 'n_victimas']]\n",
    "pivot_av = df_av.pivot_table(index='victima', columns='acusado', values='n_victimas', aggfunc='sum', fill_value=0)\n",
    "\n",
    "colors = [\"yellow\", \"orange\", \"red\", \"purple\"]\n",
    "n_colors = len(colors)\n",
    "color_map = LinearSegmentedColormap.from_list(\"custom\", colors, N=n_colors)\n",
    "\n",
    "plt.figure(figsize=(14, 6))\n",
    "sns.heatmap(pivot_av, cmap=color_map, annot=True, fmt='d')\n",
    "\n",
    "plt.title('Ocurrencia de víctimas entre pares acusado-víctima', fontsize=14)\n",
    "plt.xlabel('Acusado', fontsize=12)\n",
    "plt.ylabel('Víctima', fontsize=12)\n",
    "plt.xticks(rotation=45, ha='right')\n",
    "plt.tight_layout()\n",
    "plt.show()"
   ]
  },
  {
   "attachments": {},
   "cell_type": "markdown",
   "metadata": {},
   "source": [
    "El mapa de calor permite conocer cuáles son los pares acusado-víctima con mayor interacción. Esto permite conocer hacia quiénes deben estar dirigidos los planes de educación vial y mejora de infraestructura vial.\n",
    "* Los AUTOS son los mayores causantes de eventos, seguidos de TRANPORTE PUBLICO\n",
    "* Las principales víctimas son las MOTOS, seguidos de CICILSTAS, PEATONES y otros AUTOS"
   ]
  },
  {
   "cell_type": "code",
   "execution_count": 39,
   "metadata": {},
   "outputs": [
    {
     "data": {
      "application/vnd.plotly.v1+json": {
       "config": {
        "plotlyServerURL": "https://plot.ly"
       },
       "data": [
        {
         "branchvalues": "total",
         "customdata": [
          [
           811
          ],
          [
           79
          ],
          [
           160
          ],
          [
           15
          ],
          [
           1
          ],
          [
           17
          ],
          [
           29
          ],
          [
           3
          ],
          [
           128
          ],
          [
           7
          ],
          [
           10
          ],
          [
           4
          ],
          [
           67
          ],
          [
           111
          ],
          [
           3
          ],
          [
           8
          ],
          [
           10
          ],
          [
           1
          ],
          [
           1
          ],
          [
           8
          ],
          [
           1
          ],
          [
           11
          ],
          [
           9
          ],
          [
           1
          ],
          [
           7
          ],
          [
           10
          ],
          [
           98
          ],
          [
           12
          ],
          [
           23
          ],
          [
           3
          ],
          [
           14
          ],
          [
           5
          ],
          [
           28
          ],
          [
           1
          ],
          [
           4
          ],
          [
           1
          ],
          [
           1
          ],
          [
           807
          ],
          [
           31
          ],
          [
           166
          ],
          [
           30
          ],
          [
           115
          ],
          [
           7
          ],
          [
           24
          ],
          [
           3
          ],
          [
           4
          ],
          [
           135
          ],
          [
           120
          ],
          [
           5
          ],
          [
           32
          ],
          [
           16
          ],
          [
           5
          ],
          [
           3
          ],
          [
           5
          ],
          [
           48
          ],
          [
           9
          ],
          [
           1
          ],
          [
           1
          ],
          [
           2
          ],
          [
           2
          ],
          [
           6
          ],
          [
           1
          ],
          [
           2468
          ],
          [
           2
          ],
          [
           110
          ],
          [
           434
          ],
          [
           80
          ],
          [
           24
          ],
          [
           2
          ],
          [
           299
          ],
          [
           40
          ],
          [
           8
          ],
          [
           201
          ],
          [
           15
          ],
          [
           50
          ],
          [
           12
          ],
          [
           9
          ],
          [
           291
          ],
          [
           185
          ],
          [
           14
          ],
          [
           61
          ],
          [
           8
          ],
          [
           11
          ],
          [
           2
          ],
          [
           1
          ],
          [
           4
          ],
          [
           5
          ],
          [
           1
          ],
          [
           3
          ],
          [
           12
          ],
          [
           1
          ],
          [
           2
          ],
          [
           1
          ],
          [
           1
          ],
          [
           1
          ],
          [
           1
          ],
          [
           3
          ],
          [
           1
          ],
          [
           768
          ],
          [
           5
          ],
          [
           38
          ],
          [
           113
          ],
          [
           38
          ],
          [
           33
          ],
          [
           1
          ],
          [
           316
          ],
          [
           15
          ],
          [
           5
          ],
          [
           2
          ],
          [
           4
          ],
          [
           105
          ],
          [
           3
          ],
          [
           100
          ],
          [
           164
          ],
          [
           5
          ],
          [
           2
          ],
          [
           2
          ],
          [
           1
          ],
          [
           1
          ],
          [
           4
          ],
          [
           98
          ],
          [
           14
          ],
          [
           21
          ],
          [
           2
          ],
          [
           3
          ],
          [
           11
          ],
          [
           17
          ],
          [
           32
          ],
          [
           97
          ],
          [
           16
          ],
          [
           36
          ],
          [
           1
          ],
          [
           18
          ],
          [
           1
          ],
          [
           4
          ],
          [
           443
          ],
          [
           1
          ],
          [
           1
          ],
          [
           1
          ],
          [
           1
          ],
          [
           5276
          ],
          [
           7
          ],
          [
           335
          ],
          [
           970
          ],
          [
           150
          ],
          [
           90
          ],
          [
           3
          ],
          [
           780
          ],
          [
           98
          ],
          [
           17
          ],
          [
           396
          ],
          [
           30
          ],
          [
           178
          ],
          [
           16
          ],
          [
           21
          ],
          [
           634
          ],
          [
           1155
          ],
          [
           1
          ],
          [
           29
          ]
         ],
         "domain": {
          "x": [
           0,
           1
          ],
          "y": [
           0,
           1
          ]
         },
         "hovertemplate": "labels=%{label}<br>n_victimas=%{customdata[0]}<br>parent=%{parent}<br>id=%{id}<extra></extra>",
         "ids": [
          "AUTO/AUTO",
          "CAMION/AUTO",
          "CAMIONETA/AUTO",
          "CARGAS/AUTO",
          "CICLISTA/AUTO",
          "MOTO/AUTO",
          "MOVIL/AUTO",
          "MULTIPLE/AUTO",
          "OBJETO FIJO/AUTO",
          "OTRO/AUTO",
          "PASAJEROS/AUTO",
          "SD/AUTO",
          "TAXI/AUTO",
          "TRANSPORTE PUBLICO/AUTO",
          "UTILITARIO/AUTO",
          "AUTO/BICICLETA",
          "CARGAS/BICICLETA",
          "MULTIPLE/BICICLETA",
          "OTRO/BICICLETA",
          "PASAJEROS/BICICLETA",
          "TREN/BICICLETA",
          "AUTO/CAMION",
          "CAMION/CAMION",
          "MOTO/CAMION",
          "OBJETO FIJO/CAMION",
          "TRANSPORTE PUBLICO/CAMION",
          "AUTO/CAMIONETA",
          "CAMION/CAMIONETA",
          "CAMIONETA/CAMIONETA",
          "MOTO/CAMIONETA",
          "OBJETO FIJO/CAMIONETA",
          "TAXI/CAMIONETA",
          "TRANSPORTE PUBLICO/CAMIONETA",
          "AUTO/CARGAS",
          "CARGAS/CARGAS",
          "OBJETO FIJO/CARGAS",
          "PASAJEROS/CARGAS",
          "AUTO/CICLISTA",
          "CAMION/CICLISTA",
          "CAMIONETA/CICLISTA",
          "CICLISTA/CICLISTA",
          "MOTO/CICLISTA",
          "MOVIL/CICLISTA",
          "OBJETO FIJO/CICLISTA",
          "OTRO/CICLISTA",
          "PEATON/CICLISTA",
          "TAXI/CICLISTA",
          "TRANSPORTE PUBLICO/CICLISTA",
          "UTILITARIO/CICLISTA",
          "AUTO/MIXTO",
          "CAMION/MIXTO",
          "CAMIONETA/MIXTO",
          "MOTO/MIXTO",
          "TAXI/MIXTO",
          "TRANSPORTE PUBLICO/MIXTO",
          "AUTO/MONOPATIN",
          "CAMIONETA/MONOPATIN",
          "CICLISTA/MONOPATIN",
          "MOTO/MONOPATIN",
          "OBJETO FIJO/MONOPATIN",
          "TAXI/MONOPATIN",
          "TRANSPORTE PUBLICO/MONOPATIN",
          "AUTO/MOTO",
          "BICICLETA/MOTO",
          "CAMION/MOTO",
          "CAMIONETA/MOTO",
          "CARGAS/MOTO",
          "CICLISTA/MOTO",
          "MONOPATIN/MOTO",
          "MOTO/MOTO",
          "MOVIL/MOTO",
          "MULTIPLE/MOTO",
          "OBJETO FIJO/MOTO",
          "OTRO/MOTO",
          "PASAJEROS/MOTO",
          "PEATON/MOTO",
          "SD/MOTO",
          "TAXI/MOTO",
          "TRANSPORTE PUBLICO/MOTO",
          "UTILITARIO/MOTO",
          "AUTO/MOVIL",
          "CAMION/MOVIL",
          "CAMIONETA/MOVIL",
          "CARGAS/MOVIL",
          "MOTO/MOVIL",
          "MOVIL/MOVIL",
          "OBJETO FIJO/MOVIL",
          "PASAJEROS/MOVIL",
          "TAXI/MOVIL",
          "TRANSPORTE PUBLICO/MOVIL",
          "UTILITARIO/MOVIL",
          "AUTO/OBJETO FIJO",
          "AUTO/OTRO",
          "CAMION/OTRO",
          "TRANSPORTE PUBLICO/OTRO",
          "AUTO/PASAJEROS",
          "PASAJEROS/PASAJEROS",
          "SD/PASAJEROS",
          "AUTO/PEATON",
          "BICICLETA/PEATON",
          "CAMION/PEATON",
          "CAMIONETA/PEATON",
          "CARGAS/PEATON",
          "CICLISTA/PEATON",
          "MONOPATIN/PEATON",
          "MOTO/PEATON",
          "MOVIL/PEATON",
          "MULTIPLE/PEATON",
          "OBJETO FIJO/PEATON",
          "OTRO/PEATON",
          "PASAJEROS/PEATON",
          "SD/PEATON",
          "TAXI/PEATON",
          "TRANSPORTE PUBLICO/PEATON",
          "UTILITARIO/PEATON",
          "MOTO/PEATON_MOTO",
          "AUTO/SD",
          "CARGAS/SD",
          "MOTO/SD",
          "SD/SD",
          "AUTO/TAXI",
          "CAMION/TAXI",
          "CAMIONETA/TAXI",
          "MOTO/TAXI",
          "MOVIL/TAXI",
          "OBJETO FIJO/TAXI",
          "TAXI/TAXI",
          "TRANSPORTE PUBLICO/TAXI",
          "AUTO/TRANSPORTE PUBLICO",
          "CAMION/TRANSPORTE PUBLICO",
          "CAMIONETA/TRANSPORTE PUBLICO",
          "CICLISTA/TRANSPORTE PUBLICO",
          "MOTO/TRANSPORTE PUBLICO",
          "OBJETO FIJO/TRANSPORTE PUBLICO",
          "TAXI/TRANSPORTE PUBLICO",
          "TRANSPORTE PUBLICO/TRANSPORTE PUBLICO",
          "AUTO/UTILITARIO",
          "CAMION/UTILITARIO",
          "TAXI/UTILITARIO",
          "UTILITARIO/UTILITARIO",
          "AUTO",
          "BICICLETA",
          "CAMION",
          "CAMIONETA",
          "CARGAS",
          "CICLISTA",
          "MONOPATIN",
          "MOTO",
          "MOVIL",
          "MULTIPLE",
          "OBJETO FIJO",
          "OTRO",
          "PASAJEROS",
          "PEATON",
          "SD",
          "TAXI",
          "TRANSPORTE PUBLICO",
          "TREN",
          "UTILITARIO"
         ],
         "labels": [
          "AUTO",
          "AUTO",
          "AUTO",
          "AUTO",
          "AUTO",
          "AUTO",
          "AUTO",
          "AUTO",
          "AUTO",
          "AUTO",
          "AUTO",
          "AUTO",
          "AUTO",
          "AUTO",
          "AUTO",
          "BICICLETA",
          "BICICLETA",
          "BICICLETA",
          "BICICLETA",
          "BICICLETA",
          "BICICLETA",
          "CAMION",
          "CAMION",
          "CAMION",
          "CAMION",
          "CAMION",
          "CAMIONETA",
          "CAMIONETA",
          "CAMIONETA",
          "CAMIONETA",
          "CAMIONETA",
          "CAMIONETA",
          "CAMIONETA",
          "CARGAS",
          "CARGAS",
          "CARGAS",
          "CARGAS",
          "CICLISTA",
          "CICLISTA",
          "CICLISTA",
          "CICLISTA",
          "CICLISTA",
          "CICLISTA",
          "CICLISTA",
          "CICLISTA",
          "CICLISTA",
          "CICLISTA",
          "CICLISTA",
          "CICLISTA",
          "MIXTO",
          "MIXTO",
          "MIXTO",
          "MIXTO",
          "MIXTO",
          "MIXTO",
          "MONOPATIN",
          "MONOPATIN",
          "MONOPATIN",
          "MONOPATIN",
          "MONOPATIN",
          "MONOPATIN",
          "MONOPATIN",
          "MOTO",
          "MOTO",
          "MOTO",
          "MOTO",
          "MOTO",
          "MOTO",
          "MOTO",
          "MOTO",
          "MOTO",
          "MOTO",
          "MOTO",
          "MOTO",
          "MOTO",
          "MOTO",
          "MOTO",
          "MOTO",
          "MOTO",
          "MOTO",
          "MOVIL",
          "MOVIL",
          "MOVIL",
          "MOVIL",
          "MOVIL",
          "MOVIL",
          "MOVIL",
          "MOVIL",
          "MOVIL",
          "MOVIL",
          "MOVIL",
          "OBJETO FIJO",
          "OTRO",
          "OTRO",
          "OTRO",
          "PASAJEROS",
          "PASAJEROS",
          "PASAJEROS",
          "PEATON",
          "PEATON",
          "PEATON",
          "PEATON",
          "PEATON",
          "PEATON",
          "PEATON",
          "PEATON",
          "PEATON",
          "PEATON",
          "PEATON",
          "PEATON",
          "PEATON",
          "PEATON",
          "PEATON",
          "PEATON",
          "PEATON",
          "PEATON_MOTO",
          "SD",
          "SD",
          "SD",
          "SD",
          "TAXI",
          "TAXI",
          "TAXI",
          "TAXI",
          "TAXI",
          "TAXI",
          "TAXI",
          "TAXI",
          "TRANSPORTE PUBLICO",
          "TRANSPORTE PUBLICO",
          "TRANSPORTE PUBLICO",
          "TRANSPORTE PUBLICO",
          "TRANSPORTE PUBLICO",
          "TRANSPORTE PUBLICO",
          "TRANSPORTE PUBLICO",
          "TRANSPORTE PUBLICO",
          "UTILITARIO",
          "UTILITARIO",
          "UTILITARIO",
          "UTILITARIO",
          "AUTO",
          "BICICLETA",
          "CAMION",
          "CAMIONETA",
          "CARGAS",
          "CICLISTA",
          "MONOPATIN",
          "MOTO",
          "MOVIL",
          "MULTIPLE",
          "OBJETO FIJO",
          "OTRO",
          "PASAJEROS",
          "PEATON",
          "SD",
          "TAXI",
          "TRANSPORTE PUBLICO",
          "TREN",
          "UTILITARIO"
         ],
         "name": "",
         "parents": [
          "AUTO",
          "CAMION",
          "CAMIONETA",
          "CARGAS",
          "CICLISTA",
          "MOTO",
          "MOVIL",
          "MULTIPLE",
          "OBJETO FIJO",
          "OTRO",
          "PASAJEROS",
          "SD",
          "TAXI",
          "TRANSPORTE PUBLICO",
          "UTILITARIO",
          "AUTO",
          "CARGAS",
          "MULTIPLE",
          "OTRO",
          "PASAJEROS",
          "TREN",
          "AUTO",
          "CAMION",
          "MOTO",
          "OBJETO FIJO",
          "TRANSPORTE PUBLICO",
          "AUTO",
          "CAMION",
          "CAMIONETA",
          "MOTO",
          "OBJETO FIJO",
          "TAXI",
          "TRANSPORTE PUBLICO",
          "AUTO",
          "CARGAS",
          "OBJETO FIJO",
          "PASAJEROS",
          "AUTO",
          "CAMION",
          "CAMIONETA",
          "CICLISTA",
          "MOTO",
          "MOVIL",
          "OBJETO FIJO",
          "OTRO",
          "PEATON",
          "TAXI",
          "TRANSPORTE PUBLICO",
          "UTILITARIO",
          "AUTO",
          "CAMION",
          "CAMIONETA",
          "MOTO",
          "TAXI",
          "TRANSPORTE PUBLICO",
          "AUTO",
          "CAMIONETA",
          "CICLISTA",
          "MOTO",
          "OBJETO FIJO",
          "TAXI",
          "TRANSPORTE PUBLICO",
          "AUTO",
          "BICICLETA",
          "CAMION",
          "CAMIONETA",
          "CARGAS",
          "CICLISTA",
          "MONOPATIN",
          "MOTO",
          "MOVIL",
          "MULTIPLE",
          "OBJETO FIJO",
          "OTRO",
          "PASAJEROS",
          "PEATON",
          "SD",
          "TAXI",
          "TRANSPORTE PUBLICO",
          "UTILITARIO",
          "AUTO",
          "CAMION",
          "CAMIONETA",
          "CARGAS",
          "MOTO",
          "MOVIL",
          "OBJETO FIJO",
          "PASAJEROS",
          "TAXI",
          "TRANSPORTE PUBLICO",
          "UTILITARIO",
          "AUTO",
          "AUTO",
          "CAMION",
          "TRANSPORTE PUBLICO",
          "AUTO",
          "PASAJEROS",
          "SD",
          "AUTO",
          "BICICLETA",
          "CAMION",
          "CAMIONETA",
          "CARGAS",
          "CICLISTA",
          "MONOPATIN",
          "MOTO",
          "MOVIL",
          "MULTIPLE",
          "OBJETO FIJO",
          "OTRO",
          "PASAJEROS",
          "SD",
          "TAXI",
          "TRANSPORTE PUBLICO",
          "UTILITARIO",
          "MOTO",
          "AUTO",
          "CARGAS",
          "MOTO",
          "SD",
          "AUTO",
          "CAMION",
          "CAMIONETA",
          "MOTO",
          "MOVIL",
          "OBJETO FIJO",
          "TAXI",
          "TRANSPORTE PUBLICO",
          "AUTO",
          "CAMION",
          "CAMIONETA",
          "CICLISTA",
          "MOTO",
          "OBJETO FIJO",
          "TAXI",
          "TRANSPORTE PUBLICO",
          "AUTO",
          "CAMION",
          "TAXI",
          "UTILITARIO",
          "",
          "",
          "",
          "",
          "",
          "",
          "",
          "",
          "",
          "",
          "",
          "",
          "",
          "",
          "",
          "",
          "",
          "",
          ""
         ],
         "type": "sunburst",
         "values": [
          811,
          79,
          160,
          15,
          1,
          17,
          29,
          3,
          128,
          7,
          10,
          4,
          67,
          111,
          3,
          8,
          10,
          1,
          1,
          8,
          1,
          11,
          9,
          1,
          7,
          10,
          98,
          12,
          23,
          3,
          14,
          5,
          28,
          1,
          4,
          1,
          1,
          807,
          31,
          166,
          30,
          115,
          7,
          24,
          3,
          4,
          135,
          120,
          5,
          32,
          16,
          5,
          3,
          5,
          48,
          9,
          1,
          1,
          2,
          2,
          6,
          1,
          2468,
          2,
          110,
          434,
          80,
          24,
          2,
          299,
          40,
          8,
          201,
          15,
          50,
          12,
          9,
          291,
          185,
          14,
          61,
          8,
          11,
          2,
          1,
          4,
          5,
          1,
          3,
          12,
          1,
          2,
          1,
          1,
          1,
          1,
          3,
          1,
          768,
          5,
          38,
          113,
          38,
          33,
          1,
          316,
          15,
          5,
          2,
          4,
          105,
          3,
          100,
          164,
          5,
          2,
          2,
          1,
          1,
          4,
          98,
          14,
          21,
          2,
          3,
          11,
          17,
          32,
          97,
          16,
          36,
          1,
          18,
          1,
          4,
          443,
          1,
          1,
          1,
          1,
          5276,
          7,
          335,
          970,
          150,
          90,
          3,
          780,
          98,
          17,
          396,
          30,
          178,
          16,
          21,
          634,
          1155,
          1,
          29
         ]
        }
       ],
       "layout": {
        "height": 600,
        "legend": {
         "tracegroupgap": 0
        },
        "template": {
         "data": {
          "bar": [
           {
            "error_x": {
             "color": "#2a3f5f"
            },
            "error_y": {
             "color": "#2a3f5f"
            },
            "marker": {
             "line": {
              "color": "#E5ECF6",
              "width": 0.5
             },
             "pattern": {
              "fillmode": "overlay",
              "size": 10,
              "solidity": 0.2
             }
            },
            "type": "bar"
           }
          ],
          "barpolar": [
           {
            "marker": {
             "line": {
              "color": "#E5ECF6",
              "width": 0.5
             },
             "pattern": {
              "fillmode": "overlay",
              "size": 10,
              "solidity": 0.2
             }
            },
            "type": "barpolar"
           }
          ],
          "carpet": [
           {
            "aaxis": {
             "endlinecolor": "#2a3f5f",
             "gridcolor": "white",
             "linecolor": "white",
             "minorgridcolor": "white",
             "startlinecolor": "#2a3f5f"
            },
            "baxis": {
             "endlinecolor": "#2a3f5f",
             "gridcolor": "white",
             "linecolor": "white",
             "minorgridcolor": "white",
             "startlinecolor": "#2a3f5f"
            },
            "type": "carpet"
           }
          ],
          "choropleth": [
           {
            "colorbar": {
             "outlinewidth": 0,
             "ticks": ""
            },
            "type": "choropleth"
           }
          ],
          "contour": [
           {
            "colorbar": {
             "outlinewidth": 0,
             "ticks": ""
            },
            "colorscale": [
             [
              0,
              "#0d0887"
             ],
             [
              0.1111111111111111,
              "#46039f"
             ],
             [
              0.2222222222222222,
              "#7201a8"
             ],
             [
              0.3333333333333333,
              "#9c179e"
             ],
             [
              0.4444444444444444,
              "#bd3786"
             ],
             [
              0.5555555555555556,
              "#d8576b"
             ],
             [
              0.6666666666666666,
              "#ed7953"
             ],
             [
              0.7777777777777778,
              "#fb9f3a"
             ],
             [
              0.8888888888888888,
              "#fdca26"
             ],
             [
              1,
              "#f0f921"
             ]
            ],
            "type": "contour"
           }
          ],
          "contourcarpet": [
           {
            "colorbar": {
             "outlinewidth": 0,
             "ticks": ""
            },
            "type": "contourcarpet"
           }
          ],
          "heatmap": [
           {
            "colorbar": {
             "outlinewidth": 0,
             "ticks": ""
            },
            "colorscale": [
             [
              0,
              "#0d0887"
             ],
             [
              0.1111111111111111,
              "#46039f"
             ],
             [
              0.2222222222222222,
              "#7201a8"
             ],
             [
              0.3333333333333333,
              "#9c179e"
             ],
             [
              0.4444444444444444,
              "#bd3786"
             ],
             [
              0.5555555555555556,
              "#d8576b"
             ],
             [
              0.6666666666666666,
              "#ed7953"
             ],
             [
              0.7777777777777778,
              "#fb9f3a"
             ],
             [
              0.8888888888888888,
              "#fdca26"
             ],
             [
              1,
              "#f0f921"
             ]
            ],
            "type": "heatmap"
           }
          ],
          "heatmapgl": [
           {
            "colorbar": {
             "outlinewidth": 0,
             "ticks": ""
            },
            "colorscale": [
             [
              0,
              "#0d0887"
             ],
             [
              0.1111111111111111,
              "#46039f"
             ],
             [
              0.2222222222222222,
              "#7201a8"
             ],
             [
              0.3333333333333333,
              "#9c179e"
             ],
             [
              0.4444444444444444,
              "#bd3786"
             ],
             [
              0.5555555555555556,
              "#d8576b"
             ],
             [
              0.6666666666666666,
              "#ed7953"
             ],
             [
              0.7777777777777778,
              "#fb9f3a"
             ],
             [
              0.8888888888888888,
              "#fdca26"
             ],
             [
              1,
              "#f0f921"
             ]
            ],
            "type": "heatmapgl"
           }
          ],
          "histogram": [
           {
            "marker": {
             "pattern": {
              "fillmode": "overlay",
              "size": 10,
              "solidity": 0.2
             }
            },
            "type": "histogram"
           }
          ],
          "histogram2d": [
           {
            "colorbar": {
             "outlinewidth": 0,
             "ticks": ""
            },
            "colorscale": [
             [
              0,
              "#0d0887"
             ],
             [
              0.1111111111111111,
              "#46039f"
             ],
             [
              0.2222222222222222,
              "#7201a8"
             ],
             [
              0.3333333333333333,
              "#9c179e"
             ],
             [
              0.4444444444444444,
              "#bd3786"
             ],
             [
              0.5555555555555556,
              "#d8576b"
             ],
             [
              0.6666666666666666,
              "#ed7953"
             ],
             [
              0.7777777777777778,
              "#fb9f3a"
             ],
             [
              0.8888888888888888,
              "#fdca26"
             ],
             [
              1,
              "#f0f921"
             ]
            ],
            "type": "histogram2d"
           }
          ],
          "histogram2dcontour": [
           {
            "colorbar": {
             "outlinewidth": 0,
             "ticks": ""
            },
            "colorscale": [
             [
              0,
              "#0d0887"
             ],
             [
              0.1111111111111111,
              "#46039f"
             ],
             [
              0.2222222222222222,
              "#7201a8"
             ],
             [
              0.3333333333333333,
              "#9c179e"
             ],
             [
              0.4444444444444444,
              "#bd3786"
             ],
             [
              0.5555555555555556,
              "#d8576b"
             ],
             [
              0.6666666666666666,
              "#ed7953"
             ],
             [
              0.7777777777777778,
              "#fb9f3a"
             ],
             [
              0.8888888888888888,
              "#fdca26"
             ],
             [
              1,
              "#f0f921"
             ]
            ],
            "type": "histogram2dcontour"
           }
          ],
          "mesh3d": [
           {
            "colorbar": {
             "outlinewidth": 0,
             "ticks": ""
            },
            "type": "mesh3d"
           }
          ],
          "parcoords": [
           {
            "line": {
             "colorbar": {
              "outlinewidth": 0,
              "ticks": ""
             }
            },
            "type": "parcoords"
           }
          ],
          "pie": [
           {
            "automargin": true,
            "type": "pie"
           }
          ],
          "scatter": [
           {
            "fillpattern": {
             "fillmode": "overlay",
             "size": 10,
             "solidity": 0.2
            },
            "type": "scatter"
           }
          ],
          "scatter3d": [
           {
            "line": {
             "colorbar": {
              "outlinewidth": 0,
              "ticks": ""
             }
            },
            "marker": {
             "colorbar": {
              "outlinewidth": 0,
              "ticks": ""
             }
            },
            "type": "scatter3d"
           }
          ],
          "scattercarpet": [
           {
            "marker": {
             "colorbar": {
              "outlinewidth": 0,
              "ticks": ""
             }
            },
            "type": "scattercarpet"
           }
          ],
          "scattergeo": [
           {
            "marker": {
             "colorbar": {
              "outlinewidth": 0,
              "ticks": ""
             }
            },
            "type": "scattergeo"
           }
          ],
          "scattergl": [
           {
            "marker": {
             "colorbar": {
              "outlinewidth": 0,
              "ticks": ""
             }
            },
            "type": "scattergl"
           }
          ],
          "scattermapbox": [
           {
            "marker": {
             "colorbar": {
              "outlinewidth": 0,
              "ticks": ""
             }
            },
            "type": "scattermapbox"
           }
          ],
          "scatterpolar": [
           {
            "marker": {
             "colorbar": {
              "outlinewidth": 0,
              "ticks": ""
             }
            },
            "type": "scatterpolar"
           }
          ],
          "scatterpolargl": [
           {
            "marker": {
             "colorbar": {
              "outlinewidth": 0,
              "ticks": ""
             }
            },
            "type": "scatterpolargl"
           }
          ],
          "scatterternary": [
           {
            "marker": {
             "colorbar": {
              "outlinewidth": 0,
              "ticks": ""
             }
            },
            "type": "scatterternary"
           }
          ],
          "surface": [
           {
            "colorbar": {
             "outlinewidth": 0,
             "ticks": ""
            },
            "colorscale": [
             [
              0,
              "#0d0887"
             ],
             [
              0.1111111111111111,
              "#46039f"
             ],
             [
              0.2222222222222222,
              "#7201a8"
             ],
             [
              0.3333333333333333,
              "#9c179e"
             ],
             [
              0.4444444444444444,
              "#bd3786"
             ],
             [
              0.5555555555555556,
              "#d8576b"
             ],
             [
              0.6666666666666666,
              "#ed7953"
             ],
             [
              0.7777777777777778,
              "#fb9f3a"
             ],
             [
              0.8888888888888888,
              "#fdca26"
             ],
             [
              1,
              "#f0f921"
             ]
            ],
            "type": "surface"
           }
          ],
          "table": [
           {
            "cells": {
             "fill": {
              "color": "#EBF0F8"
             },
             "line": {
              "color": "white"
             }
            },
            "header": {
             "fill": {
              "color": "#C8D4E3"
             },
             "line": {
              "color": "white"
             }
            },
            "type": "table"
           }
          ]
         },
         "layout": {
          "annotationdefaults": {
           "arrowcolor": "#2a3f5f",
           "arrowhead": 0,
           "arrowwidth": 1
          },
          "autotypenumbers": "strict",
          "coloraxis": {
           "colorbar": {
            "outlinewidth": 0,
            "ticks": ""
           }
          },
          "colorscale": {
           "diverging": [
            [
             0,
             "#8e0152"
            ],
            [
             0.1,
             "#c51b7d"
            ],
            [
             0.2,
             "#de77ae"
            ],
            [
             0.3,
             "#f1b6da"
            ],
            [
             0.4,
             "#fde0ef"
            ],
            [
             0.5,
             "#f7f7f7"
            ],
            [
             0.6,
             "#e6f5d0"
            ],
            [
             0.7,
             "#b8e186"
            ],
            [
             0.8,
             "#7fbc41"
            ],
            [
             0.9,
             "#4d9221"
            ],
            [
             1,
             "#276419"
            ]
           ],
           "sequential": [
            [
             0,
             "#0d0887"
            ],
            [
             0.1111111111111111,
             "#46039f"
            ],
            [
             0.2222222222222222,
             "#7201a8"
            ],
            [
             0.3333333333333333,
             "#9c179e"
            ],
            [
             0.4444444444444444,
             "#bd3786"
            ],
            [
             0.5555555555555556,
             "#d8576b"
            ],
            [
             0.6666666666666666,
             "#ed7953"
            ],
            [
             0.7777777777777778,
             "#fb9f3a"
            ],
            [
             0.8888888888888888,
             "#fdca26"
            ],
            [
             1,
             "#f0f921"
            ]
           ],
           "sequentialminus": [
            [
             0,
             "#0d0887"
            ],
            [
             0.1111111111111111,
             "#46039f"
            ],
            [
             0.2222222222222222,
             "#7201a8"
            ],
            [
             0.3333333333333333,
             "#9c179e"
            ],
            [
             0.4444444444444444,
             "#bd3786"
            ],
            [
             0.5555555555555556,
             "#d8576b"
            ],
            [
             0.6666666666666666,
             "#ed7953"
            ],
            [
             0.7777777777777778,
             "#fb9f3a"
            ],
            [
             0.8888888888888888,
             "#fdca26"
            ],
            [
             1,
             "#f0f921"
            ]
           ]
          },
          "colorway": [
           "#636efa",
           "#EF553B",
           "#00cc96",
           "#ab63fa",
           "#FFA15A",
           "#19d3f3",
           "#FF6692",
           "#B6E880",
           "#FF97FF",
           "#FECB52"
          ],
          "font": {
           "color": "#2a3f5f"
          },
          "geo": {
           "bgcolor": "white",
           "lakecolor": "white",
           "landcolor": "#E5ECF6",
           "showlakes": true,
           "showland": true,
           "subunitcolor": "white"
          },
          "hoverlabel": {
           "align": "left"
          },
          "hovermode": "closest",
          "mapbox": {
           "style": "light"
          },
          "paper_bgcolor": "white",
          "plot_bgcolor": "#E5ECF6",
          "polar": {
           "angularaxis": {
            "gridcolor": "white",
            "linecolor": "white",
            "ticks": ""
           },
           "bgcolor": "#E5ECF6",
           "radialaxis": {
            "gridcolor": "white",
            "linecolor": "white",
            "ticks": ""
           }
          },
          "scene": {
           "xaxis": {
            "backgroundcolor": "#E5ECF6",
            "gridcolor": "white",
            "gridwidth": 2,
            "linecolor": "white",
            "showbackground": true,
            "ticks": "",
            "zerolinecolor": "white"
           },
           "yaxis": {
            "backgroundcolor": "#E5ECF6",
            "gridcolor": "white",
            "gridwidth": 2,
            "linecolor": "white",
            "showbackground": true,
            "ticks": "",
            "zerolinecolor": "white"
           },
           "zaxis": {
            "backgroundcolor": "#E5ECF6",
            "gridcolor": "white",
            "gridwidth": 2,
            "linecolor": "white",
            "showbackground": true,
            "ticks": "",
            "zerolinecolor": "white"
           }
          },
          "shapedefaults": {
           "line": {
            "color": "#2a3f5f"
           }
          },
          "ternary": {
           "aaxis": {
            "gridcolor": "white",
            "linecolor": "white",
            "ticks": ""
           },
           "baxis": {
            "gridcolor": "white",
            "linecolor": "white",
            "ticks": ""
           },
           "bgcolor": "#E5ECF6",
           "caxis": {
            "gridcolor": "white",
            "linecolor": "white",
            "ticks": ""
           }
          },
          "title": {
           "x": 0.05
          },
          "xaxis": {
           "automargin": true,
           "gridcolor": "white",
           "linecolor": "white",
           "ticks": "",
           "title": {
            "standoff": 15
           },
           "zerolinecolor": "white",
           "zerolinewidth": 2
          },
          "yaxis": {
           "automargin": true,
           "gridcolor": "white",
           "linecolor": "white",
           "ticks": "",
           "title": {
            "standoff": 15
           },
           "zerolinecolor": "white",
           "zerolinewidth": 2
          }
         }
        },
        "title": {
         "text": "Gráfico Sunburst con Valores de n_victimas"
        },
        "width": 800
       }
      }
     },
     "metadata": {},
     "output_type": "display_data"
    }
   ],
   "source": [
    "df_sun = dfhl.groupby(['acusado', 'victima'])['n_victimas'].sum().reset_index()\n",
    "fig = px.sunburst(df_sun, path=['acusado', 'victima'], values='n_victimas', \n",
    "                  hover_data=['n_victimas'],  # Mostrar valores al pasar el mouse\n",
    "                  title='Gráfico Sunburst con Valores de n_victimas')\n",
    "\n",
    "fig.update_layout(width=800, height=600)\n",
    "fig.show()"
   ]
  },
  {
   "attachments": {},
   "cell_type": "markdown",
   "metadata": {},
   "source": [
    "El gráfico tipo sunburst permite visualizar en forma interactiva la misma información provista por el heatmap, pero viendo las proporciones en formato de torta.\n",
    "* El anillo primario muestra los acusados\n",
    "* El anillo secundario muestra las víctimas\n",
    "* Los principales acusados (causantes) son los autos, transporte público, camioneta y motos, lo cual se condice con el heatmap\n",
    "* Cualquiera de los acusados tiene una gran interacción con la moto como víctima, lo que también se condice con el heatmap"
   ]
  },
  {
   "attachments": {},
   "cell_type": "markdown",
   "metadata": {},
   "source": [
    "# Conclusiones\n",
    "================================================================================================================================================================================"
   ]
  },
  {
   "attachments": {},
   "cell_type": "markdown",
   "metadata": {},
   "source": [
    "Los registros históricos muestran, para toda la ciudad:\n",
    "* Un promedio de 120 víctimas mortales por año\n",
    "* Un promedio de 9200 víctimas lesionadas por año\n",
    "\n",
    "Las series de tiempo muestran:\n",
    "* Un promedio mensual de 10 víctimas mortales\n",
    "* Un promedio mensual de 767 víctimas lesionadas\n",
    "* En el año 2020 se registran abruptamente menos eventos, debido a la cuarentena del covid19\n",
    "* Hay una tendencia a la baja en los últimos años, muy posiblemente vinculada al item anterior pues los datos están entre 2016-2021\n",
    "* En cuanto a las estacionalidades:\n",
    "    * Entre Octubre-Marzo se registran la mayor cantidad de eventos\n",
    "    * Los fines de semana tienen menos actividad\n",
    "    * El horario pico de accidentes se dá entre las 4 pm y 5 pm\n",
    "\n",
    "El análisis entre tipos de eventos permite ver:\n",
    "* Las lesiones y muertes tienen cierta correlatividad levemente positiva, lo cual es esperable\n",
    "* Una gran cantidad de lesiones no necesariamente conlleva a un número alto de muertes\n",
    "\n",
    "Del análisis geográfico, podemos determinar:\n",
    "* Las comunas 1, 15 y 14 tienen los mayores promedios mensuales\n",
    "* Las comunas 1, 15 y 4 tienen las mayores variabilidades\n",
    "* Todas las comunas presentan una baja en el año 2020, lo cual indica que la aplicación de cuarentena fué global\n",
    "* Las comunas 1 y 15 registran la mayor actividad de eventos, pero la comuna 15 ha ido disminuyendo sus accidentes\n",
    "* El 50% de los eventos ocurren en sólo 6 comunas: la 1, 15, 4, 9, 3 y 14\n",
    "\n",
    "El análisis de víctimas nos permite concluir en lo siguiente:\n",
    "* Los autos son los principales causantes de accidentes\n",
    "* Las motos son las principales víctimas\n",
    "* Hay un total de 2468 (el 25% de los eventos) correspondientes al par auto-moto, en donde el accidente es ocasionado por el auto y la víctima es la moto"
   ]
  }
 ],
 "metadata": {
  "kernelspec": {
   "display_name": "Python 3",
   "language": "python",
   "name": "python3"
  },
  "language_info": {
   "codemirror_mode": {
    "name": "ipython",
    "version": 3
   },
   "file_extension": ".py",
   "mimetype": "text/x-python",
   "name": "python",
   "nbconvert_exporter": "python",
   "pygments_lexer": "ipython3",
   "version": "3.12.0"
  },
  "orig_nbformat": 4
 },
 "nbformat": 4,
 "nbformat_minor": 2
}
